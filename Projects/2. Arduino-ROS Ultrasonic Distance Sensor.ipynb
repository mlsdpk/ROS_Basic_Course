{
 "cells": [
  {
   "cell_type": "markdown",
   "metadata": {},
   "source": [
    "# Arduino-ROS Ultrasonic Distance Sensor"
   ]
  },
  {
   "cell_type": "markdown",
   "metadata": {},
   "source": [
    "One of the useful sensors in robots are the range sensors. One of the cheapest range sensor is the ultrasonic distance sensor. The ultrasonic sensor has two pins for handling input and output, called Echo and Trigger. We are using the HC-SR04 ultrasonic distance sensor and the circuit is shown in the following image:\n"
   ]
  },
  {
   "cell_type": "markdown",
   "metadata": {},
   "source": [
    "<img src=\"img/img3.png\" alt=\"Drawing\" style=\"width: 400px;\"/>"
   ]
  },
  {
   "cell_type": "markdown",
   "metadata": {},
   "source": [
    "The ultrasonic sound sensor contains two sections: one is the transmitter and the other is the receiver. The working of the ultrasonic distance sensor is, when a trigger pulse of a short duration is applied to the trigger pin of the ultrasonic sensors, the ultrasonic transmitter sends the sound signals to the robot environment. The sound signal sent from the transmitter hits on some obstacles and is reflected back to the sensor. The reflected sound waves are collected by the ultrasonic receiver, generating an output signal which has a relation to the time required to receive the reflected sound signals."
   ]
  },
  {
   "cell_type": "markdown",
   "metadata": {},
   "source": [
    "## Equations to  find distance using the ultrasonic range sensor"
   ]
  },
  {
   "cell_type": "markdown",
   "metadata": {},
   "source": [
    "Following are the equations used to compute the distance from an ultrasonic range sensor to an obstacle:"
   ]
  },
  {
   "cell_type": "markdown",
   "metadata": {},
   "source": [
    "**Distance = Speed * Time/2**\n",
    "\n",
    "**Speed of sound at sea level = 343 m/s or 34300 cm/s**\n",
    "\n",
    "**Thus, Distance = 17150 * Time (unit cm)**\n"
   ]
  },
  {
   "cell_type": "markdown",
   "metadata": {},
   "source": [
    "We can compute the distance to the obstacle using the pulse duration of the output. Following is the code to work with the ultrasonic sound sensor and send value through the ultrasound topic using the range message definition in ROS:\n"
   ]
  },
  {
   "cell_type": "code",
   "execution_count": null,
   "metadata": {},
   "outputs": [],
   "source": [
    "#include <ros.h>\n",
    "#include <ros/time.h>\n",
    "#include <sensor_msgs/Range.h>\n",
    "   \n",
    "#define echoPin 7 // Echo Pin\n",
    "#define trigPin 8 // Trigger Pin\n",
    "   \n",
    "int maximumRange = 200; // Maximum range needed\n",
    "int minimumRange = 0; // Minimum range needed\n",
    "long duration, distance; // Duration used to calculate distance\n",
    "\n",
    "ros::NodeHandle  nh;\n",
    "sensor_msgs::Range range_msg;\n",
    "   \n",
    "ros::Publisher pub_range( \"/ultrasound\", &range_msg);\n",
    "char frameid[] = \"/ultrasound\";\n",
    "   \n",
    "void setup() \n",
    "{\n",
    "  nh.initNode();\n",
    "  nh.advertise(pub_range);\n",
    "    \n",
    "  range_msg.radiation_type = sensor_msgs::Range::ULTRASOUND;\n",
    "  range_msg.header.frame_id =  frameid;\n",
    "  range_msg.field_of_view = 0.1;  // fake\n",
    "  range_msg.min_range = 0.0;\n",
    "  range_msg.max_range = 60;\n",
    "  \n",
    "  pinMode(trigPin, OUTPUT);\n",
    "  pinMode(echoPin, INPUT);\n",
    "}\n",
    "   \n",
    "float getRange_Ultrasound()\n",
    "{\n",
    "    int val = 0;\n",
    "    \n",
    "    for(int i=0; i<4; i++) \n",
    "    {\n",
    "     digitalWrite(trigPin, LOW);\n",
    "     delayMicroseconds(2);\n",
    "     digitalWrite(trigPin, HIGH);\n",
    "     delayMicroseconds(10);\n",
    "     digitalWrite(trigPin, LOW);\n",
    "     \n",
    "     duration = pulseIn(echoPin, HIGH);\n",
    "     \n",
    "     //Calculate the distance (in cm) based on the speed of sound.\n",
    "     val += duration;\n",
    "    }\n",
    "    \n",
    "    return val / 232.8 ;\n",
    "}\n",
    "   \n",
    "long range_time;\n",
    "   \n",
    "void loop() \n",
    "{\n",
    "   /* The following trigPin/echoPin cycle is used to determine the\n",
    "    distance of the nearest object by bouncing soundwaves off of it. */\n",
    "      \n",
    "    if ( millis() >= range_time )\n",
    "    {\n",
    "       int r =0;\n",
    "       range_msg.range = getRange_Ultrasound();\n",
    "       range_msg.header.stamp = nh.now();\n",
    "       pub_range.publish(&range_msg);\n",
    "       range_time =  millis() + 50;\n",
    "    }\n",
    "     \n",
    "    nh.spinOnce();\n",
    "    delay(50); \n",
    "}\n"
   ]
  },
  {
   "cell_type": "markdown",
   "metadata": {},
   "source": [
    "We can plot the distance value using the following command:\n"
   ]
  },
  {
   "cell_type": "code",
   "execution_count": null,
   "metadata": {},
   "outputs": [],
   "source": [
    "roscore"
   ]
  },
  {
   "cell_type": "code",
   "execution_count": null,
   "metadata": {},
   "outputs": [],
   "source": [
    "rosrun rosserial_python serial_node.py /dev/ttyACM*"
   ]
  },
  {
   "cell_type": "code",
   "execution_count": null,
   "metadata": {},
   "outputs": [],
   "source": [
    "rqt_plot /ultrasound"
   ]
  },
  {
   "cell_type": "markdown",
   "metadata": {},
   "source": [
    "<img src=\"img/img4.png\" alt=\"Drawing\" style=\"width: 700px;\"/>"
   ]
  },
  {
   "cell_type": "markdown",
   "metadata": {},
   "source": [
    "The center line indicates the current distance from the sensor. The upper line is the\n",
    "max_range and line below is the minimum range.\n"
   ]
  }
 ],
 "metadata": {
  "kernelspec": {
   "display_name": "Python 2",
   "language": "python",
   "name": "python2"
  },
  "language_info": {
   "codemirror_mode": {
    "name": "ipython",
    "version": 2
   },
   "file_extension": ".py",
   "mimetype": "text/x-python",
   "name": "python",
   "nbconvert_exporter": "python",
   "pygments_lexer": "ipython2",
   "version": "2.7.12"
  }
 },
 "nbformat": 4,
 "nbformat_minor": 2
}
