{
 "cells": [
  {
   "cell_type": "markdown",
   "metadata": {},
   "source": [
    "# Arduino-ROS Blink LED and push button"
   ]
  },
  {
   "cell_type": "markdown",
   "metadata": {},
   "source": [
    "In this example, we can interface the LED and push button to Arduino and control using ROS. When the push button is pressed, the Arduino node sends a True value to a topic called pushed, and at the same time, it switches on the LED which is on the Arduino board. The following shows the circuit for doing this example:"
   ]
  },
  {
   "cell_type": "markdown",
   "metadata": {},
   "source": [
    "<img src=\"img/img1.png\" alt=\"Drawing\" style=\"width: 400px;\"/>"
   ]
  },
  {
   "cell_type": "code",
   "execution_count": null,
   "metadata": {},
   "outputs": [],
   "source": [
    "/*\n",
    "Button Example for Rosserial\n",
    "*/\n",
    "   \n",
    "#include <ros.h>\n",
    "#include <std_msgs/Bool.h>\n",
    "   \n",
    "//Nodehandle\n",
    "ros::NodeHandle nh;\n",
    "   \n",
    "//Boolean message for Push button\n",
    "std_msgs::Bool pushed_msg;\n",
    "\n",
    "//Defining Publisher in a topic called pushed\n",
    "ros::Publisher pub_button(\"pushed\", &pushed_msg);\n",
    "        \n",
    "//LED and Push button pin definitions\n",
    "const int button_pin = 7;\n",
    "const int led_pin = 13;\n",
    "\n",
    "//Variables to handle debouncing\n",
    "//https://www.arduino.cc/en/Tutorial/Debounce\n",
    "bool last_reading;\n",
    "long last_debounce_time=0;\n",
    "long debounce_delay=50;\n",
    "bool published = true;\n",
    "\n",
    "void setup()\n",
    "{\n",
    "  nh.initNode();\n",
    "  nh.advertise(pub_button);\n",
    "  \n",
    "  //initialize an LED output pin\n",
    "  //and a input pin for our push button\n",
    "  pinMode(led_pin, OUTPUT);\n",
    "  pinMode(button_pin, INPUT);\n",
    "  \n",
    "  //Enable the pullup resistor on the button\n",
    "  digitalWrite(button_pin, HIGH);\n",
    "  \n",
    "  //The button is a normally button\n",
    "  last_reading = ! digitalRead(button_pin);\n",
    "}\n",
    "\n",
    "void loop() \n",
    "{\n",
    "  bool reading = ! digitalRead(button_pin);\n",
    "  \n",
    "  if (last_reading!= reading)\n",
    "    {\n",
    "      last_debounce_time = millis();\n",
    "      published = false;\n",
    "    }\n",
    "\n",
    "//if the button value has not changed for the debounce delay, we know its stable\n",
    "    \n",
    "  if ( !published && (millis() - last_debounce_time)  > debounce_delay) \n",
    "    {\n",
    "       digitalWrite(led_pin, reading);\n",
    "       pushed_msg.data = reading;\n",
    "       pub_button.publish(&pushed_msg);\n",
    "       published = true;\n",
    "    }\n",
    "    \n",
    "  last_reading = reading;\n",
    "  nh.spinOnce();\n",
    "}"
   ]
  },
  {
   "cell_type": "markdown",
   "metadata": {},
   "source": [
    "The preceding code handles the key debouncing and changes the button state only after the button release. The preceding code can upload to Arduino and can interface to ROS using the following command:\n"
   ]
  },
  {
   "cell_type": "code",
   "execution_count": null,
   "metadata": {},
   "outputs": [],
   "source": [
    "roscore"
   ]
  },
  {
   "cell_type": "code",
   "execution_count": null,
   "metadata": {},
   "outputs": [],
   "source": [
    "rosrun rosserial_python serial_node.py /dev/ttyACM*"
   ]
  },
  {
   "cell_type": "markdown",
   "metadata": {},
   "source": [
    "We can see the button press event by echoing the topic pushed:"
   ]
  },
  {
   "cell_type": "code",
   "execution_count": null,
   "metadata": {},
   "outputs": [],
   "source": [
    "rostopic echo pushed"
   ]
  },
  {
   "cell_type": "markdown",
   "metadata": {},
   "source": [
    "We will get following values when a button is pressed:"
   ]
  },
  {
   "cell_type": "markdown",
   "metadata": {},
   "source": [
    "<img src=\"img/img2.png\" alt=\"Drawing\" style=\"width: 500px;\"/>"
   ]
  }
 ],
 "metadata": {
  "kernelspec": {
   "display_name": "Python 2",
   "language": "python",
   "name": "python2"
  },
  "language_info": {
   "codemirror_mode": {
    "name": "ipython",
    "version": 2
   },
   "file_extension": ".py",
   "mimetype": "text/x-python",
   "name": "python",
   "nbconvert_exporter": "python",
   "pygments_lexer": "ipython2",
   "version": "2.7.12"
  }
 },
 "nbformat": 4,
 "nbformat_minor": 2
}
