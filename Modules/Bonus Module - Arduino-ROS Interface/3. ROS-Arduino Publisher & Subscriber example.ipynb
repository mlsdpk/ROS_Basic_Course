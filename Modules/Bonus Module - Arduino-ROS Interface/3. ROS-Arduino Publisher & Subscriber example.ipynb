{
 "cells": [
  {
   "cell_type": "markdown",
   "metadata": {},
   "source": [
    "# ROS-Arduino Publisher & Subscriber example"
   ]
  },
  {
   "cell_type": "markdown",
   "metadata": {},
   "source": [
    "The first example using Arduino and ROS interface is a chatter and talker interface. Users can send a **String** message to a topic and Arduino will publish the same message in a **chatter topic**. The following ROS node is implemented for Arduino:"
   ]
  },
  {
   "cell_type": "code",
   "execution_count": null,
   "metadata": {},
   "outputs": [],
   "source": [
    "#include <ros.h>\n",
    "#include <std_msgs/String.h>\n",
    "\n",
    "//Creating Nodehandle\n",
    "ros::NodeHandle nh;\n",
    "        \n",
    "//Declaring String variable\n",
    "std_msgs::String str_msg;\n",
    "        \n",
    "//Defining Publisher\n",
    "ros::Publisher chatter(\"chatter\", &str_msg);\n",
    "        \n",
    "//Defining callback\n",
    "void callback(const std_msgs::String& msg)\n",
    "{\n",
    "    str_msg.data = msg.data;\n",
    "    chatter.publish(&str_msg);\n",
    "}\n",
    "\n",
    "//Defining Subscriber\n",
    "ros::Subscriber<std_msgs::String> sub(\"talker\", callback);\n",
    "                \n",
    "void setup()\n",
    "{\n",
    "    //Initializing node\n",
    "    nh.initNode();\n",
    "    //Start advertising and subscribing\n",
    "    nh.advertise(chatter);\n",
    "    nh.subscribe(sub);\n",
    "}\n",
    "\n",
    "void loop()\n",
    "{\n",
    "    nh.spinOnce();\n",
    "    delay(3);\n",
    "}"
   ]
  },
  {
   "cell_type": "markdown",
   "metadata": {},
   "source": [
    "You can compile the above code and upload it to the Arduino board. After uploading the code, select the desire Arduino board that we are using for this example and the desire serial port of the Arduino IDE.\n",
    "<t>\n",
    "After compiling and uploading the code, we can start the ROS bridge nodes in the PC which connects Arduino and the PC using the following command. Ensure that Arduino is already connected to the PC before executing of this command:"
   ]
  },
  {
   "cell_type": "code",
   "execution_count": null,
   "metadata": {},
   "outputs": [],
   "source": [
    "rosrun rosserial_python serial_node.py /dev/ttyACM*"
   ]
  },
  {
   "cell_type": "markdown",
   "metadata": {},
   "source": [
    "We are using the **rosserial_python** node here as the ROS bridging node. We have to mention the device name and baud-rate as arguments. The default baud-rate of this communication is **57600**. We can change the baud-rate according to our application and the usage of **serial_node.py** inside the **rosserial_python** package is given at http://wiki.ros.org/rosserial_python . If the communication between ROS node and the Arduino node is correct, we will get the follwoing message:"
   ]
  },
  {
   "cell_type": "markdown",
   "metadata": {},
   "source": [
    "After running **serial_node.py**, we will get the list of topics using the following command:\n"
   ]
  },
  {
   "cell_type": "code",
   "execution_count": null,
   "metadata": {},
   "outputs": [],
   "source": [
    "rostopic list"
   ]
  },
  {
   "cell_type": "markdown",
   "metadata": {},
   "source": [
    "We can see that topics such as **chatter** & **talker** are being generated. We can simply publish a message to the **talker** topic using the following command:"
   ]
  },
  {
   "cell_type": "code",
   "execution_count": null,
   "metadata": {},
   "outputs": [],
   "source": [
    "rostopic pub -r 5 talker std_msgs/String \"Hello World\""
   ]
  },
  {
   "cell_type": "markdown",
   "metadata": {},
   "source": [
    "It will publish the \"Hello World\" messgae with a rate of 5.\n",
    "<t>\n",
    "We can echo the **chatter** topic and we will get the same message as we published:"
   ]
  },
  {
   "cell_type": "code",
   "execution_count": null,
   "metadata": {},
   "outputs": [],
   "source": [
    "rostopic echo /chatter"
   ]
  }
 ],
 "metadata": {
  "kernelspec": {
   "display_name": "Python 2",
   "language": "python",
   "name": "python2"
  },
  "language_info": {
   "codemirror_mode": {
    "name": "ipython",
    "version": 2
   },
   "file_extension": ".py",
   "mimetype": "text/x-python",
   "name": "python",
   "nbconvert_exporter": "python",
   "pygments_lexer": "ipython2",
   "version": "2.7.12"
  }
 },
 "nbformat": 4,
 "nbformat_minor": 2
}
