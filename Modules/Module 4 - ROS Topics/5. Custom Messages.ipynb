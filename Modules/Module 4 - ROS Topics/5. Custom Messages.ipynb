{
 "cells": [
  {
   "cell_type": "markdown",
   "metadata": {},
   "source": [
    "# Creating Custom Messages"
   ]
  },
  {
   "cell_type": "markdown",
   "metadata": {},
   "source": [
    "We have practiced with ROS standard messages a lot. Now it is a time to make our custom messages."
   ]
  },
  {
   "cell_type": "markdown",
   "metadata": {},
   "source": [
    "### In order to create a new message you will need to do the following steps:\n",
    "<t>\n",
    "    1) Create a directory named 'msg' inside your package\n",
    "<t>\n",
    "    2) Inside this directory, create a file named **\"name_of_your_message_file.msg\"** \n",
    "<t>\n",
    "    3) Modify CMakeLists.txt file\n",
    "<t>\n",
    "    4) Modify package.xml file\n",
    "<t>\n",
    "    5) Compile\n",
    "<t>\n",
    "    6) Use in code"
   ]
  },
  {
   "cell_type": "markdown",
   "metadata": {},
   "source": [
    "For example, let's create a message that indicates Age with years, months and days."
   ]
  },
  {
   "cell_type": "markdown",
   "metadata": {},
   "source": [
    "1) Create directory **\"msg\"** in your package."
   ]
  },
  {
   "cell_type": "code",
   "execution_count": null,
   "metadata": {},
   "outputs": [],
   "source": [
    "roscd (package_name)"
   ]
  },
  {
   "cell_type": "code",
   "execution_count": 3,
   "metadata": {},
   "outputs": [],
   "source": [
    "mkdir msg"
   ]
  },
  {
   "cell_type": "markdown",
   "metadata": {},
   "source": [
    "2) The **Age.msg** file must contain this:"
   ]
  },
  {
   "cell_type": "code",
   "execution_count": null,
   "metadata": {},
   "outputs": [],
   "source": [
    "float32 years\n",
    "float32 months\n",
    "float32 days"
   ]
  },
  {
   "cell_type": "markdown",
   "metadata": {},
   "source": [
    "3) In CMakeLists.txt\n",
    "<t>\n",
    "You will have to edit four functions:\n",
    "    - find_package()\n",
    "    - add_message_files()\n",
    "    - generate_messages()\n",
    "    - catkin_package()"
   ]
  },
  {
   "cell_type": "markdown",
   "metadata": {},
   "source": [
    "#### I. find_package()"
   ]
  },
  {
   "cell_type": "markdown",
   "metadata": {},
   "source": [
    "Add **message_generation** line inside the find_package() function."
   ]
  },
  {
   "cell_type": "code",
   "execution_count": null,
   "metadata": {},
   "outputs": [],
   "source": [
    "find_package(catkin REQUIRED COMPONENTS\n",
    "  rospy\n",
    "  std_msgs\n",
    "  message_generation #Add message_generation here\n",
    ")"
   ]
  },
  {
   "cell_type": "markdown",
   "metadata": {},
   "source": [
    "#### II. add_message_files()"
   ]
  },
  {
   "cell_type": "markdown",
   "metadata": {},
   "source": [
    "This fuction includes all the messages of the package.\n",
    "<t>\n",
    "Uncomment the **add_message_files()**.\n",
    "<t>\n",
    "Inside that fucntion, uncomment **FILES** and add your **Age.msg**"
   ]
  },
  {
   "cell_type": "code",
   "execution_count": null,
   "metadata": {},
   "outputs": [],
   "source": [
    "add_message_files(\n",
    "   FILES\n",
    "   Age.msg\n",
    "#   Message1.msg\n",
    "#   Message2.msg\n",
    ")"
   ]
  },
  {
   "cell_type": "markdown",
   "metadata": {},
   "source": [
    "#### III. catkin_package()"
   ]
  },
  {
   "cell_type": "markdown",
   "metadata": {},
   "source": [
    "Uncomment CATKIN_DEPENDS and add **message_runtime** to it."
   ]
  },
  {
   "cell_type": "code",
   "execution_count": null,
   "metadata": {},
   "outputs": [],
   "source": [
    "catkin_package(\n",
    "#  INCLUDE_DIRS include\n",
    "#  LIBRARIES tutorials\n",
    "   CATKIN_DEPENDS rospy std_msgs message_runtime\n",
    "#  DEPENDS system_lib\n",
    ")"
   ]
  },
  {
   "cell_type": "markdown",
   "metadata": {},
   "source": [
    "#### IV. generate_messages()"
   ]
  },
  {
   "cell_type": "markdown",
   "metadata": {},
   "source": [
    "Uncomment **generate_messages()** and its contents."
   ]
  },
  {
   "cell_type": "markdown",
   "metadata": {},
   "source": [
    "generate_messages(\n",
    "   DEPENDENCIES\n",
    "   std_msgs\n",
    ")"
   ]
  },
  {
   "cell_type": "markdown",
   "metadata": {},
   "source": [
    "### 4) Modify package.xml"
   ]
  },
  {
   "cell_type": "markdown",
   "metadata": {},
   "source": [
    "Just uncomment these two lines inside the package.xml!"
   ]
  },
  {
   "cell_type": "code",
   "execution_count": null,
   "metadata": {},
   "outputs": [],
   "source": [
    "<build_depend>message_generation</build_depend> \n",
    "<exec_depend>message_runtime</exec_depend> "
   ]
  },
  {
   "cell_type": "markdown",
   "metadata": {},
   "source": [
    "**package.xml will open with mozila firefox if you just right click open to it.**\n",
    "<t>\n",
    "So, you can open with any text editor and uncomment the lines!"
   ]
  },
  {
   "cell_type": "markdown",
   "metadata": {},
   "source": [
    "After all, you just need to compile your package using catkin_make!\n",
    "<t>\n",
    "If you don't see any errors after compiling, your custom message is successfully created."
   ]
  },
  {
   "cell_type": "markdown",
   "metadata": {},
   "source": [
    "So, you want to verify that your message has been created successfully created. You can do it like you did similarly before."
   ]
  },
  {
   "cell_type": "code",
   "execution_count": null,
   "metadata": {},
   "outputs": [],
   "source": [
    "rosmsg show Age"
   ]
  },
  {
   "cell_type": "code",
   "execution_count": null,
   "metadata": {},
   "outputs": [],
   "source": [
    "[tutorials/Age]:\n",
    "float32 years\n",
    "float32 months\n",
    "float32 days"
   ]
  },
  {
   "cell_type": "markdown",
   "metadata": {},
   "source": [
    "## Congratulations! You've created your custom message. Now it's ready to be used.\n",
    "\n",
    "## Now, it's time to practice! Go to Exercise 4..."
   ]
  }
 ],
 "metadata": {
  "kernelspec": {
   "display_name": "Python 2",
   "language": "python",
   "name": "python2"
  },
  "language_info": {
   "codemirror_mode": {
    "name": "ipython",
    "version": 2
   },
   "file_extension": ".py",
   "mimetype": "text/x-python",
   "name": "python",
   "nbconvert_exporter": "python",
   "pygments_lexer": "ipython2",
   "version": "2.7.12"
  }
 },
 "nbformat": 4,
 "nbformat_minor": 2
}
