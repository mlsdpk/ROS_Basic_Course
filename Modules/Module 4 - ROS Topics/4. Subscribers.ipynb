{
 "cells": [
  {
   "cell_type": "markdown",
   "metadata": {},
   "source": [
    "# Subscribers"
   ]
  },
  {
   "cell_type": "markdown",
   "metadata": {},
   "source": [
    "You've already learnt about **Publishers.** \n",
    "<t>\n",
    "**Publisher is a node that publish messages through a topic.**\n",
    "<t>\n",
    "So, what is a subscriber?\n",
    "### Subscriber is a node that subscribes messages from a topic!"
   ]
  },
  {
   "cell_type": "markdown",
   "metadata": {},
   "source": [
    "Let's practice it. Copy the following code into the new file called **\"topic_subscriber.py\"** inside your **\"tutorials\"** package."
   ]
  },
  {
   "cell_type": "code",
   "execution_count": null,
   "metadata": {},
   "outputs": [],
   "source": [
    "#! /usr/bin/env python\n",
    "\n",
    "import rospy\n",
    "from std_msgs.msg import Int32\n",
    "\n",
    "def callback(msg):\n",
    "    print msg.data\n",
    "    \n",
    "rospy.init_node(\"topic_subscriber\")\n",
    "rospy.Subscriber(\"/counter\", Int32, callback)\n",
    "rospy.spin()"
   ]
  },
  {
   "cell_type": "markdown",
   "metadata": {},
   "source": [
    "Then, run it.\n",
    "<t>\n",
    "What's up? Nothing happens again? \n",
    "<t>\n",
    "    Because you forget to open your publisher code. There is no publisher for the topic you subscribed .i.e, /counter"
   ]
  },
  {
   "cell_type": "markdown",
   "metadata": {},
   "source": [
    "Try to rosrun your publisher code that publishes messages through a topic /counter. After that, check your subscriber terminal.\n",
    "<t>\n",
    "You will see the numbers printing out in the console."
   ]
  },
  {
   "cell_type": "markdown",
   "metadata": {},
   "source": [
    "### Go to Exercise 3 and practice your skills~"
   ]
  }
 ],
 "metadata": {
  "kernelspec": {
   "display_name": "Python 2",
   "language": "python",
   "name": "python2"
  },
  "language_info": {
   "codemirror_mode": {
    "name": "ipython",
    "version": 2
   },
   "file_extension": ".py",
   "mimetype": "text/x-python",
   "name": "python",
   "nbconvert_exporter": "python",
   "pygments_lexer": "ipython2",
   "version": "2.7.12"
  }
 },
 "nbformat": 4,
 "nbformat_minor": 2
}
