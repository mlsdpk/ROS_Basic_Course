{
 "cells": [
  {
   "cell_type": "markdown",
   "metadata": {},
   "source": [
    "# Solution for Exercise 3"
   ]
  },
  {
   "cell_type": "markdown",
   "metadata": {},
   "source": [
    "First, make a new package called **exercise3**"
   ]
  },
  {
   "cell_type": "markdown",
   "metadata": {},
   "source": [
    "Then, create **scripts** directory inside it and copy the following into the new file called **solution3.py**"
   ]
  },
  {
   "cell_type": "code",
   "execution_count": null,
   "metadata": {},
   "outputs": [],
   "source": [
    "#! /usr/bin/env python\n",
    "\n",
    "import rospy\n",
    "from turtlesim.msg import Pose\n",
    "\n",
    "def callback(msg):\n",
    "    print \"x: \", msg.x\n",
    "    print \"y: \", msg.y\n",
    "    print \"theta: \", msg.theta\n",
    "    print \"linear_velocity: \", msg.linear_velocity\n",
    "    print \"angular_velocity: \", msg.angular_velocity\n",
    "    print \"---\"\n",
    "    \n",
    "rospy.init_node(\"turtle\")\n",
    "rospy.Subscriber(\"/turtle1/pose\", Pose, callback)\n",
    "rospy.spin()"
   ]
  },
  {
   "cell_type": "markdown",
   "metadata": {},
   "source": [
    "Compile and make it executable. After that, create a **launch** directory and copy the followings into the new launch file called **solution3.launch**"
   ]
  },
  {
   "cell_type": "code",
   "execution_count": null,
   "metadata": {},
   "outputs": [],
   "source": [
    "<launch>\n",
    "    <node pkg=\"turtlesim\" type=\"turtlesim_node\" name=\"turtlesim\" output=\"screen\" />\n",
    "    <node pkg=\"exercise3\" type=\"solution3.py\" name=\"turtle\" output=\"screen\" />\n",
    "    <node pkg=\"turtlesim\" type=\"turtle_teleop_key\" name=\"teleop_turtle\" output=\"screen\" />\n",
    "</launch>      "
   ]
  },
  {
   "cell_type": "markdown",
   "metadata": {},
   "source": [
    "Then, compile and run it."
   ]
  },
  {
   "cell_type": "code",
   "execution_count": null,
   "metadata": {},
   "outputs": [],
   "source": [
    "roslaunch exercise3 solution3.launch"
   ]
  }
 ],
 "metadata": {
  "kernelspec": {
   "display_name": "Python 2",
   "language": "python",
   "name": "python2"
  },
  "language_info": {
   "codemirror_mode": {
    "name": "ipython",
    "version": 2
   },
   "file_extension": ".py",
   "mimetype": "text/x-python",
   "name": "python",
   "nbconvert_exporter": "python",
   "pygments_lexer": "ipython2",
   "version": "2.7.12"
  }
 },
 "nbformat": 4,
 "nbformat_minor": 2
}
