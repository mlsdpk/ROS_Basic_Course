{
 "cells": [
  {
   "cell_type": "markdown",
   "metadata": {},
   "source": [
    "# Solution for Exercise 4"
   ]
  },
  {
   "cell_type": "markdown",
   "metadata": {},
   "source": [
    "Create a package called **exercise4**"
   ]
  },
  {
   "cell_type": "markdown",
   "metadata": {},
   "source": [
    "Then, let's create a custom message called **TwoInts.msg**"
   ]
  },
  {
   "cell_type": "code",
   "execution_count": null,
   "metadata": {},
   "outputs": [],
   "source": [
    "int32 a \n",
    "int32 b"
   ]
  },
  {
   "cell_type": "markdown",
   "metadata": {},
   "source": [
    "Don't forget to modify the CMakeLists.txt & package.xml"
   ]
  },
  {
   "cell_type": "markdown",
   "metadata": {},
   "source": [
    "After that, compile it. Then, create a publisher code for the exercise called **two_rand_ints.py**"
   ]
  },
  {
   "cell_type": "code",
   "execution_count": null,
   "metadata": {},
   "outputs": [],
   "source": [
    "#! /usr/bin/env python\n",
    "\n",
    "import rospy\n",
    "import random\n",
    "from exercise4.msg import TwoInts\n",
    "\n",
    "rospy.init_node(\"two_ints_publisher\")\n",
    "pub = rospy.Publisher('/two_ints', TwoInts, queue_size = 1)\n",
    "rate = rospy.Rate(2)\n",
    "count = TwoInts()\n",
    "\n",
    "while not rospy.is_shutdown():\n",
    "    count.a = random.randint(0,10)\n",
    "    count.b = random.randint(0,10)\n",
    "    pub.publish(count)\n",
    "    rate.sleep()"
   ]
  },
  {
   "cell_type": "markdown",
   "metadata": {},
   "source": [
    "Again, create a subscriber code called **sum.py**"
   ]
  },
  {
   "cell_type": "code",
   "execution_count": null,
   "metadata": {},
   "outputs": [],
   "source": [
    "#! /usr/bin/env python\n",
    "\n",
    "import rospy\n",
    "from exercise4.msg import TwoInts\n",
    "from std_msgs.msg import Int32\n",
    "\n",
    "def callback(msg):\n",
    "    total_sum = msg.a + msg.b\n",
    "    pub.publish(total_sum)\n",
    "\n",
    "rospy.init_node(\"two_ints_subscriber\")\n",
    "pub = rospy.Publisher('/sum', Int32, queue_size = 1)\n",
    "rospy.Subscriber('/two_ints', TwoInts, callback)\n",
    "rospy.spin()"
   ]
  },
  {
   "cell_type": "markdown",
   "metadata": {},
   "source": [
    "Make a launch file for this **solution4.launch**"
   ]
  },
  {
   "cell_type": "code",
   "execution_count": null,
   "metadata": {},
   "outputs": [],
   "source": [
    "<launch>\n",
    "    <node pkg=\"exercise4\" type=\"two_rand_ints.py\" name=\"two_ints_publisher\" output=\"screen\" />\n",
    "    <node pkg=\"exercise4\" type=\"sum.py\" name=\"two_ints_subscriber\" output=\"screen\" />\n",
    "</launch>      "
   ]
  }
 ],
 "metadata": {
  "kernelspec": {
   "display_name": "Python 2",
   "language": "python",
   "name": "python2"
  },
  "language_info": {
   "codemirror_mode": {
    "name": "ipython",
    "version": 2
   },
   "file_extension": ".py",
   "mimetype": "text/x-python",
   "name": "python",
   "nbconvert_exporter": "python",
   "pygments_lexer": "ipython2",
   "version": "2.7.12"
  }
 },
 "nbformat": 4,
 "nbformat_minor": 2
}
