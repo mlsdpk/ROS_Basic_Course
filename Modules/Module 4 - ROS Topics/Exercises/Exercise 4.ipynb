{
 "cells": [
  {
   "cell_type": "markdown",
   "metadata": {},
   "source": [
    "# Exercise 4"
   ]
  },
  {
   "cell_type": "markdown",
   "metadata": {},
   "source": [
    "### This is the final exercise of the Topics chapter!!"
   ]
  },
  {
   "cell_type": "markdown",
   "metadata": {},
   "source": [
    "1) Create a new package for this exercise.\n",
    "<t>\n",
    "2) For this exercise, you need to create two nodes.\n",
    "<t>\n",
    "3) The first node is a publisher, which publishes two random integers between 0 and 10 inclusively.\n",
    "<t>\n",
    "4) The second one is a subscriber, which subscribes those two integers. Then, add those two integers. Finally, publish again the final sum of two random integers as a topic of **/sum**"
   ]
  },
  {
   "cell_type": "markdown",
   "metadata": {},
   "source": [
    "#### Use these HINTS for your exercise!"
   ]
  },
  {
   "cell_type": "markdown",
   "metadata": {},
   "source": [
    "- create a custom message of two integers\n",
    "<t>\n",
    "- for the second node, publishing and subscribing are all inside in a single node(single python file)\n",
    "<t>\n",
    "- use python random module \n",
    "  "
   ]
  },
  {
   "cell_type": "code",
   "execution_count": 24,
   "metadata": {},
   "outputs": [
    {
     "name": "stdout",
     "output_type": "stream",
     "text": [
      "4\n"
     ]
    }
   ],
   "source": [
    "import random\n",
    "print random.randint(0,10)"
   ]
  }
 ],
 "metadata": {
  "kernelspec": {
   "display_name": "Python 2",
   "language": "python",
   "name": "python2"
  },
  "language_info": {
   "codemirror_mode": {
    "name": "ipython",
    "version": 2
   },
   "file_extension": ".py",
   "mimetype": "text/x-python",
   "name": "python",
   "nbconvert_exporter": "python",
   "pygments_lexer": "ipython2",
   "version": "2.7.12"
  }
 },
 "nbformat": 4,
 "nbformat_minor": 2
}
