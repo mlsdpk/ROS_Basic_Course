{
 "cells": [
  {
   "cell_type": "markdown",
   "metadata": {},
   "source": [
    "# Exercise 2"
   ]
  },
  {
   "cell_type": "markdown",
   "metadata": {},
   "source": [
    "#### In this exercise, we are going to practice the things we've learnt from the previous chapters\n",
    "<t>\n",
    "#### Okay, let's get started!"
   ]
  },
  {
   "cell_type": "markdown",
   "metadata": {},
   "source": [
    "Here are the tasks you have to do for this exercise!"
   ]
  },
  {
   "cell_type": "markdown",
   "metadata": {},
   "source": [
    "1. Build a new package called **\"exercise2\"** with the dependencies of **\"rospy\" \"std_msgs\"**.\n",
    "<t>\n",
    "2. Your job is to make a publisher code which publish **the messages of String type \"Hello World\"**\n",
    "3. Then make a launch file called \"solution2.launch\"\n",
    "    \n",
    "<t>\n",
    "For the node name and the topic name, you can give anything you want!\n",
    "    "
   ]
  },
  {
   "cell_type": "markdown",
   "metadata": {},
   "source": [
    "<img src=\"img/img2.png\" alt=\"Drawing\" style=\"width: 400px;\"/>"
   ]
  }
 ],
 "metadata": {
  "kernelspec": {
   "display_name": "Python 2",
   "language": "python",
   "name": "python2"
  },
  "language_info": {
   "codemirror_mode": {
    "name": "ipython",
    "version": 2
   },
   "file_extension": ".py",
   "mimetype": "text/x-python",
   "name": "python",
   "nbconvert_exporter": "python",
   "pygments_lexer": "ipython2",
   "version": "2.7.12"
  }
 },
 "nbformat": 4,
 "nbformat_minor": 2
}
