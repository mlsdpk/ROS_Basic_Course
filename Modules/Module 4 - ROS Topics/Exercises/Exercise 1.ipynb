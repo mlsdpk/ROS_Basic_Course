{
 "cells": [
  {
   "cell_type": "markdown",
   "metadata": {},
   "source": [
    "# Exercise 1"
   ]
  },
  {
   "cell_type": "markdown",
   "metadata": {},
   "source": [
    "In this exercise, you have to create a publisher code that publish data to the **/turtle1/cmd_vel** topic.\n",
    "<t>\n",
    "Modify the previous code you've learnt before.\n",
    "<t>\n",
    "Run the program and check the turtle move in a circle like this:\n",
    "<t>\n"
   ]
  },
  {
   "cell_type": "markdown",
   "metadata": {},
   "source": [
    "<img src=\"img/ex1.png\" alt=\"Drawing\" style=\"width: 400px;\"/>"
   ]
  },
  {
   "cell_type": "markdown",
   "metadata": {},
   "source": [
    "### Hints\n",
    "You can learn more information about the **/turtle1/cmd_vel** topic by using **rostopic info (topic_name)**\n",
    "<t>\n",
    "You'll see the message type of that topic.\n",
    "<t>\n",
    "Also use **rosmsg show (message)** to know about the message!!"
   ]
  },
  {
   "cell_type": "markdown",
   "metadata": {},
   "source": [
    "Don't forget to open the \"**turtlesim_node**\" before running your publisher code! \n",
    "<t>\n",
    "### Good Luck!! You'll see a turtle moving in a circle."
   ]
  }
 ],
 "metadata": {
  "kernelspec": {
   "display_name": "Python 3",
   "language": "python",
   "name": "python3"
  },
  "language_info": {
   "codemirror_mode": {
    "name": "ipython",
    "version": 3
   },
   "file_extension": ".py",
   "mimetype": "text/x-python",
   "name": "python",
   "nbconvert_exporter": "python",
   "pygments_lexer": "ipython3",
   "version": "3.6.4"
  }
 },
 "nbformat": 4,
 "nbformat_minor": 2
}
