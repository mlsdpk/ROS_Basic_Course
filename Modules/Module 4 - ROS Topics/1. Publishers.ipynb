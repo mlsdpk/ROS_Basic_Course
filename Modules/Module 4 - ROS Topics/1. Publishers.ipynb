{
 "cells": [
  {
   "cell_type": "markdown",
   "metadata": {},
   "source": [
    "# Publishers"
   ]
  },
  {
   "cell_type": "markdown",
   "metadata": {},
   "source": [
    "Before explaining what is a topic, lets make a new package!"
   ]
  },
  {
   "cell_type": "markdown",
   "metadata": {},
   "source": [
    "Create a new package called \"ros_topics\". The dependencies for the package are as follows: "
   ]
  },
  {
   "cell_type": "markdown",
   "metadata": {},
   "source": [
    "- rospy\n",
    "- std_msgs"
   ]
  },
  {
   "cell_type": "markdown",
   "metadata": {},
   "source": [
    "Then lets make a file named \"basic_topic.py\" inside the *scripts* folder and copy the following code into that:"
   ]
  },
  {
   "cell_type": "code",
   "execution_count": null,
   "metadata": {},
   "outputs": [],
   "source": [
    "#! /usr/bin/env python\n",
    "\n",
    "import rospy\n",
    "from std_msgs.msg import Int32\n",
    "\n",
    "rospy.init_node(\"topic_publisher\")\n",
    "pub = rospy.Publisher('/counter', Int32, queue_size = 1)\n",
    "rate = rospy.Rate(2)\n",
    "count = Int32()\n",
    "count.data = 0\n",
    "\n",
    "while not rospy.is_shutdown():\n",
    "    pub.publish(count)\n",
    "    count.data += 1\n",
    "    rate.sleep()"
   ]
  },
  {
   "cell_type": "markdown",
   "metadata": {},
   "source": [
    "Done? Okay, lets compile it! Don't forget to make it executable using the \"**chmod +x basic_topic.py**\"\n",
    "<t>\n",
    "After doing *catkin_make*, lets run it.   "
   ]
  },
  {
   "cell_type": "code",
   "execution_count": null,
   "metadata": {},
   "outputs": [],
   "source": [
    "roscore"
   ]
  },
  {
   "cell_type": "code",
   "execution_count": null,
   "metadata": {},
   "outputs": [],
   "source": [
    "rosrun ros_topics basic_topic.py"
   ]
  },
  {
   "cell_type": "markdown",
   "metadata": {},
   "source": [
    "Nothing happens? Okay, lets check our node first. Type **rosnode list** and check our node is created or not.\n",
    "<t>\n",
    "Fine. There is our node. SO, lets check our topic lists, to do that, use the following command:"
   ]
  },
  {
   "cell_type": "code",
   "execution_count": null,
   "metadata": {},
   "outputs": [],
   "source": [
    "rostopic list"
   ]
  },
  {
   "cell_type": "markdown",
   "metadata": {},
   "source": [
    "Yes. There is a topic called \"**/counter**\".\n",
    "<t>\n",
    "We can get more information about the topics by using rostopic arguments. Lets try \"**rostopic info /counter**\" first."
   ]
  },
  {
   "cell_type": "code",
   "execution_count": null,
   "metadata": {},
   "outputs": [],
   "source": [
    "rostopic info /counter"
   ]
  },
  {
   "cell_type": "markdown",
   "metadata": {},
   "source": [
    "**Type:    std_msgs/Int32**\n",
    "\n",
    "**Publishers:**\n",
    "*  /topic_publisher \n",
    "\n",
    "**Subscribers:    None**\n",
    "    "
   ]
  },
  {
   "cell_type": "markdown",
   "metadata": {},
   "source": [
    "Forget the **Publishers** & **Subscribers** parts. We just focus on the **Type: std_msgs/Int32**\n",
    "<t>\n",
    "What does that mean? \n",
    "<t>\n",
    "It means that **std_msgs/Int32** is the message type of the topic \"**/counter**\""
   ]
  },
  {
   "cell_type": "markdown",
   "metadata": {},
   "source": [
    "Well, lets see more deeply into our topic using the following command:"
   ]
  },
  {
   "cell_type": "code",
   "execution_count": null,
   "metadata": {},
   "outputs": [],
   "source": [
    "rostopic echo /counter"
   ]
  },
  {
   "cell_type": "markdown",
   "metadata": {},
   "source": [
    "You'll see a successful of consecutive numbers, similar to the following:"
   ]
  },
  {
   "cell_type": "code",
   "execution_count": null,
   "metadata": {},
   "outputs": [],
   "source": [
    "data: 283\n",
    "---\n",
    "data: 284\n",
    "---\n",
    "data: 285\n",
    "---\n",
    "data: 286\n",
    "---\n",
    "data: 287\n",
    "---\n",
    "data: 288\n",
    "---\n",
    "data: 289\n"
   ]
  },
  {
   "cell_type": "markdown",
   "metadata": {},
   "source": [
    "OK, so..what has just happened? Lets explain it more details."
   ]
  },
  {
   "cell_type": "code",
   "execution_count": null,
   "metadata": {},
   "outputs": [],
   "source": [
    "#! /usr/bin/env python\n",
    "\n",
    "import rospy                                                # Import the python library for ROS\n",
    "from std_msgs.msg import Int32                              # Import the Int32 message from the std_msgs package\n",
    "\n",
    "rospy.init_node(\"topic_publisher\")                          # Initiate a node named \"topic_publisher\"\n",
    "pub = rospy.Publisher('/counter', Int32,)    # Create a publisher object, that will publish on the \n",
    "                                                            # /counter topic message of type Int32\n",
    "\n",
    "rate = rospy.Rate(2)                                        # Set a publish rate of 2 Hz\n",
    "count = Int32()                                             # Create a var of type Int32\n",
    "count.data = 0                                              # Initialize 'count' variable\n",
    "\n",
    "while not rospy.is_shutdown():                              # Loop untill someone stops (pressing Crtl+Z)\n",
    "    pub.publish(count)                                      # Publish the message within the 'count' variable\n",
    "    count.data += 1                                         # Increment 'count' variable\n",
    "    rate.sleep()                                            # Make sure the publish rate maintain at 2 Hz"
   ]
  },
  {
   "cell_type": "markdown",
   "metadata": {},
   "source": [
    "Basically, what the code does is to initiate a node and create a Publisher that keeps publishing into the /counter topic a sequence of consecutive numbers.\n",
    "<t>\n",
    "Summaizing, **A publisher is a node that keeps publishing a message into a topic**. So now...what is a topic?\n",
    "<t>\n",
    "**A topic is a channel where other ROS nodes can either publish or read information.**"
   ]
  },
  {
   "cell_type": "markdown",
   "metadata": {},
   "source": [
    "Lets see some commands related to topics:"
   ]
  },
  {
   "cell_type": "code",
   "execution_count": null,
   "metadata": {},
   "outputs": [],
   "source": [
    "rostopic list                    # To get a list of available topics"
   ]
  },
  {
   "cell_type": "code",
   "execution_count": null,
   "metadata": {},
   "outputs": [],
   "source": [
    "rostopic echo <topic_name>       # To read the information that is being published in a topic"
   ]
  },
  {
   "cell_type": "code",
   "execution_count": null,
   "metadata": {},
   "outputs": [],
   "source": [
    "rostopic echo <topic_name> -n1   # To read just the last message published into a topic"
   ]
  },
  {
   "cell_type": "markdown",
   "metadata": {},
   "source": [
    "You can find more commands of rostopic by using the following:"
   ]
  },
  {
   "cell_type": "code",
   "execution_count": null,
   "metadata": {},
   "outputs": [],
   "source": [
    "rostopic -h"
   ]
  },
  {
   "cell_type": "markdown",
   "metadata": {},
   "source": [
    "### You now know about how topics work and what a publisher is. Let's move to next section.."
   ]
  }
 ],
 "metadata": {
  "kernelspec": {
   "display_name": "Python 2",
   "language": "python",
   "name": "python2"
  },
  "language_info": {
   "codemirror_mode": {
    "name": "ipython",
    "version": 2
   },
   "file_extension": ".py",
   "mimetype": "text/x-python",
   "name": "python",
   "nbconvert_exporter": "python",
   "pygments_lexer": "ipython2",
   "version": "2.7.12"
  }
 },
 "nbformat": 4,
 "nbformat_minor": 2
}
