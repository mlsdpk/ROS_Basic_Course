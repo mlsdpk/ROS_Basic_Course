{
 "cells": [
  {
   "cell_type": "markdown",
   "metadata": {},
   "source": [
    "# Final Exercise"
   ]
  },
  {
   "cell_type": "markdown",
   "metadata": {},
   "source": [
    "In this exercise, you have to create your own service node and also client node. Please use the following data for this final exercise. Read exactly and carefully!"
   ]
  },
  {
   "cell_type": "markdown",
   "metadata": {},
   "source": [
    "### Datas for the Exercise\n",
    "\n",
    "1. You have to create a new package called **\"service_final\"**.\n",
    "2. You have to use built-in **std_srvs/Empty** service message type.\n",
    "3. Don't create launch file for this exercise. Just two nodes!\n",
    "4. You can name anything you want for the stuffs like code_names, service_names, node_names etc.\n",
    "5. Use your own idea for this exercise. Only use Empty service message."
   ]
  }
 ],
 "metadata": {
  "kernelspec": {
   "display_name": "Python 2",
   "language": "python",
   "name": "python2"
  },
  "language_info": {
   "codemirror_mode": {
    "name": "ipython",
    "version": 2
   },
   "file_extension": ".py",
   "mimetype": "text/x-python",
   "name": "python",
   "nbconvert_exporter": "python",
   "pygments_lexer": "ipython2",
   "version": "2.7.12"
  }
 },
 "nbformat": 4,
 "nbformat_minor": 2
}
