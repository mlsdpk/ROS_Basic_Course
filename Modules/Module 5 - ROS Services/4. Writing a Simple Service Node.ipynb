{
 "cells": [
  {
   "cell_type": "markdown",
   "metadata": {},
   "source": [
    "# Writing a Service Node"
   ]
  },
  {
   "cell_type": "markdown",
   "metadata": {},
   "source": [
    "Here we'll create the service (\"add_two_ints_server\") node which will receive two ints and return the sum."
   ]
  },
  {
   "cell_type": "markdown",
   "metadata": {},
   "source": [
    "In your tutorials package, create a file named **\"add_two_ints_server.py\"** inside the scripts folder.\n",
    "<t>\n",
    "Then, copy the following code into it."
   ]
  },
  {
   "cell_type": "code",
   "execution_count": null,
   "metadata": {},
   "outputs": [],
   "source": [
    "#! /usr/bin/env python\n",
    "\n",
    "import rospy\n",
    "from tutorials.srv import AddTwoInts, AddTwoIntsResponse\n",
    "\n",
    "def call_back(request):\n",
    "    print \"Returning [%s + %s = %s]\" % (request.a, request.b, (request.a + request.b))\n",
    "    return AddTwoIntsResponse(request.a + request.b)\n",
    "\n",
    "rospy.init_node('add_two_ints_server')\n",
    "rospy.Service('add_two_ints', AddTwoInts, call_back)\n",
    "print \"Ready to add two ints.\"\n",
    "rospy.spin()"
   ]
  },
  {
   "cell_type": "markdown",
   "metadata": {},
   "source": [
    "Compile and run it."
   ]
  },
  {
   "cell_type": "code",
   "execution_count": null,
   "metadata": {},
   "outputs": [],
   "source": [
    "rosrun tutorials add_two_ints_server.py "
   ]
  },
  {
   "cell_type": "markdown",
   "metadata": {},
   "source": [
    "**Ready to add two ints.**"
   ]
  },
  {
   "cell_type": "markdown",
   "metadata": {},
   "source": [
    "Let's check our service list."
   ]
  },
  {
   "cell_type": "code",
   "execution_count": null,
   "metadata": {},
   "outputs": [],
   "source": [
    "rosservice list"
   ]
  },
  {
   "cell_type": "code",
   "execution_count": null,
   "metadata": {},
   "outputs": [],
   "source": [
    "/add_two_ints\n",
    "/add_two_ints_server/get_loggers\n",
    "/add_two_ints_server/set_logger_level\n",
    "/rosout/get_loggers\n",
    "/rosout/set_logger_level"
   ]
  },
  {
   "cell_type": "markdown",
   "metadata": {},
   "source": [
    "You'll see **/add_two_ints** service. Next, lets get info about the service."
   ]
  },
  {
   "cell_type": "code",
   "execution_count": null,
   "metadata": {},
   "outputs": [],
   "source": [
    "rosservice info /add_two_ints"
   ]
  },
  {
   "cell_type": "code",
   "execution_count": null,
   "metadata": {},
   "outputs": [],
   "source": [
    "Node: /add_two_ints_server\n",
    "URI: rosrpc://ubuntu:34497\n",
    "Type: tutorials/AddTwoInts\n",
    "Args: a b"
   ]
  },
  {
   "cell_type": "markdown",
   "metadata": {},
   "source": [
    "Yeah...this is what we made before.\n",
    "<t>\n",
    "Do you want to test your service? Yes, you can. Let's use (rosservice call)."
   ]
  },
  {
   "cell_type": "code",
   "execution_count": null,
   "metadata": {},
   "outputs": [],
   "source": [
    "rosservice call /add_two_ints \"a: 1\n",
    "b: 2\""
   ]
  },
  {
   "cell_type": "markdown",
   "metadata": {},
   "source": [
    "#### sum: 3"
   ]
  },
  {
   "cell_type": "markdown",
   "metadata": {},
   "source": [
    "Cool...go and look at your server terminal. You'll see something like this:"
   ]
  },
  {
   "cell_type": "markdown",
   "metadata": {},
   "source": [
    "#### Returning [1 + 2 = 3]"
   ]
  },
  {
   "cell_type": "markdown",
   "metadata": {},
   "source": [
    "Your code works. You now know about how to create your service node. You learnt how to create your client node in the previous chapter. Now, it's time to practice your skills.\n",
    "<t>\n",
    "### You've to do two exercises for this Services Chapter. Go to Exercises and practice your skills...Good Luck!"
   ]
  }
 ],
 "metadata": {
  "kernelspec": {
   "display_name": "Python 2",
   "language": "python",
   "name": "python2"
  },
  "language_info": {
   "codemirror_mode": {
    "name": "ipython",
    "version": 2
   },
   "file_extension": ".py",
   "mimetype": "text/x-python",
   "name": "python",
   "nbconvert_exporter": "python",
   "pygments_lexer": "ipython2",
   "version": "2.7.12"
  }
 },
 "nbformat": 4,
 "nbformat_minor": 2
}
