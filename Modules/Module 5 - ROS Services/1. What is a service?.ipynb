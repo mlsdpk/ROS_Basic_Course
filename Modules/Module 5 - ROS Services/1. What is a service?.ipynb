{
 "cells": [
  {
   "cell_type": "markdown",
   "metadata": {},
   "source": [
    "# What is a service?"
   ]
  },
  {
   "cell_type": "markdown",
   "metadata": {},
   "source": [
    "The ROS services are a type of **request/response** communication between ROS nodes.\n",
    "<t>\n",
    "One node will send a request and wait until it gets a response from the other.\n",
    "<t>\n",
    "Let's test it with our turtlesim node!"
   ]
  },
  {
   "cell_type": "code",
   "execution_count": null,
   "metadata": {},
   "outputs": [],
   "source": [
    "roscore"
   ]
  },
  {
   "cell_type": "code",
   "execution_count": null,
   "metadata": {},
   "outputs": [],
   "source": [
    "rosrun turtlesim turtlesim_node"
   ]
  },
  {
   "cell_type": "markdown",
   "metadata": {},
   "source": [
    "We can check our available services list similarly as topics."
   ]
  },
  {
   "cell_type": "code",
   "execution_count": null,
   "metadata": {},
   "outputs": [],
   "source": [
    "rosservice list"
   ]
  },
  {
   "cell_type": "code",
   "execution_count": null,
   "metadata": {},
   "outputs": [],
   "source": [
    "/clear\n",
    "/kill\n",
    "/reset\n",
    "/rosout/get_loggers\n",
    "/rosout/set_logger_level\n",
    "/spawn\n",
    "/turtle1/set_pen\n",
    "/turtle1/teleport_absolute\n",
    "/turtle1/teleport_relative\n",
    "/turtlesim/get_loggers\n",
    "/turtlesim/set_logger_level"
   ]
  },
  {
   "cell_type": "markdown",
   "metadata": {},
   "source": [
    "You'll see many services. Let's focus on the **\"/spawn\"** service.\n",
    "<t>\n",
    "You can see what rosservice can do by **(rosservice -h)** command."
   ]
  },
  {
   "cell_type": "code",
   "execution_count": null,
   "metadata": {},
   "outputs": [],
   "source": [
    "rosservice -h"
   ]
  },
  {
   "cell_type": "markdown",
   "metadata": {},
   "source": [
    "#### Commands:\n",
    "\trosservice args\t:print service arguments\n",
    "\trosservice call\t:call the service with the provided args\n",
    "\trosservice find\t:find services by service type\n",
    "\trosservice info\t:print information about service\n",
    "\trosservice list\t:list active services\n",
    "\trosservice type\t:print service type\n",
    "\trosservice uri\t :print service ROSRPC uri"
   ]
  },
  {
   "cell_type": "markdown",
   "metadata": {},
   "source": [
    "We can also see more detailed usage of rosservice usage by typing **rosservice (command) -h**\n",
    "<t>\n",
    "Okay, let's use **rosservice call** to **/spawn** service. Copy the following code into your terminal and hit ENTER."
   ]
  },
  {
   "cell_type": "code",
   "execution_count": null,
   "metadata": {},
   "outputs": [],
   "source": [
    "rosservice call /spawn \"x: 10.0\n",
    "y: 10.0\n",
    "theta: 0.0\n",
    "name: 'puppy'\" "
   ]
  },
  {
   "cell_type": "markdown",
   "metadata": {},
   "source": [
    "You'll see a new turtle appears. Cool right? What really happens here?\n",
    "<t>\n",
    "We are requesting a new turtle named \"puppy\" at x10 and y10 and wait for the response. Then, the server response a new turtle for us and printing our message in your terminal: **name: \"puppy\"**"
   ]
  },
  {
   "cell_type": "markdown",
   "metadata": {},
   "source": [
    "Okay, I think you now know a little about services. Don't be panic! Let's learn more about services.\n",
    "<t>\n",
    "You've already know that topics use messages to communicate each node. Services also use messages similar concepts like topics.\n",
    "<t>\n",
    "Like using **rostopic info**, we can use **rosservice info** to get more information about service."
   ]
  },
  {
   "cell_type": "code",
   "execution_count": null,
   "metadata": {},
   "outputs": [],
   "source": [
    "rosservice info /spawn"
   ]
  },
  {
   "cell_type": "code",
   "execution_count": null,
   "metadata": {},
   "outputs": [],
   "source": [
    "Node: /turtlesim\n",
    "URI: rosrpc://ubuntu:60931\n",
    "Type: turtlesim/Spawn\n",
    "Args: x y theta name"
   ]
  },
  {
   "cell_type": "markdown",
   "metadata": {},
   "source": [
    "You know about Node: line. This **/spawn** service is made by turtlesim node.\n",
    "<t>\n",
    "Don't worry about the URI line.\n",
    "<t>\n",
    "This (Type) line is what we are interested here. Similar to the message definition, a service description language is used to define the ROS service types. We'll learn more about this service definition in few seconds.\n",
    "<t>\n",
    "This is Args: A service need to have arguments or it can also have no argument (empty)\n",
    "<t>\n",
    "Let's learn about service type. Similar with rosmsg -h, we can do rossrv -h"
   ]
  },
  {
   "cell_type": "code",
   "execution_count": null,
   "metadata": {},
   "outputs": [],
   "source": [
    "rossrv -h"
   ]
  },
  {
   "cell_type": "code",
   "execution_count": null,
   "metadata": {},
   "outputs": [],
   "source": [
    "rossrv is a command-line tool for displaying information about ROS Service types.\n",
    "\n",
    "Commands:\n",
    "\trossrv show\tShow service description\n",
    "\trossrv info\tAlias for rossrv show\n",
    "\trossrv list\tList all services\n",
    "\trossrv md5\tDisplay service md5sum\n",
    "\trossrv package\tList services in a package\n",
    "\trossrv packages\tList packages that contain services\n",
    "\n",
    "Type rossrv <command> -h for more detailed usage"
   ]
  },
  {
   "cell_type": "markdown",
   "metadata": {},
   "source": [
    "Let's focus on rossrv show!"
   ]
  },
  {
   "cell_type": "code",
   "execution_count": null,
   "metadata": {},
   "outputs": [],
   "source": [
    "rossrv show turtlesim/Spawn"
   ]
  },
  {
   "cell_type": "code",
   "execution_count": null,
   "metadata": {},
   "outputs": [],
   "source": [
    "float32 x\n",
    "float32 y\n",
    "float32 theta\n",
    "string name\n",
    "---\n",
    "string name"
   ]
  },
  {
   "cell_type": "markdown",
   "metadata": {},
   "source": [
    "Well, it has similar structure like messages. Only the --- is separating two parts here."
   ]
  },
  {
   "cell_type": "markdown",
   "metadata": {},
   "source": [
    "ROS service description needs to have the following format:"
   ]
  },
  {
   "cell_type": "code",
   "execution_count": null,
   "metadata": {},
   "outputs": [],
   "source": [
    "#Request message type\n",
    "---\n",
    "#Response message type"
   ]
  },
  {
   "cell_type": "markdown",
   "metadata": {},
   "source": [
    "Do you remember our arguments of **/spawn** service when we call it?"
   ]
  },
  {
   "cell_type": "code",
   "execution_count": null,
   "metadata": {},
   "outputs": [],
   "source": [
    "rosservice call /spawn \"x: 10.0\n",
    "y: 10.0\n",
    "theta: 0.0\n",
    "name: 'puppy'\""
   ]
  },
  {
   "cell_type": "markdown",
   "metadata": {},
   "source": [
    "#### x, y, theta, name\n",
    "<t>\n",
    "These are located above '---' in the service definition file. Yes, it's. We are requesting a new turtle to appear and its arguments have to locate above the '---'.\n",
    "<t>\n",
    "After calling our service, we get a response from other node; a new turtle appears and **name: \"puppy\"** prints in our terminal. Because, the response server uses (Response message type of 'name') below the '---'"
   ]
  },
  {
   "cell_type": "markdown",
   "metadata": {},
   "source": [
    "### That's all! You learn the basic concepts about services in a terminal way. Now, it's time to do it programmatically."
   ]
  }
 ],
 "metadata": {
  "kernelspec": {
   "display_name": "Python 2",
   "language": "python",
   "name": "python2"
  },
  "language_info": {
   "codemirror_mode": {
    "name": "ipython",
    "version": 2
   },
   "file_extension": ".py",
   "mimetype": "text/x-python",
   "name": "python",
   "nbconvert_exporter": "python",
   "pygments_lexer": "ipython2",
   "version": "2.7.12"
  }
 },
 "nbformat": 4,
 "nbformat_minor": 2
}
