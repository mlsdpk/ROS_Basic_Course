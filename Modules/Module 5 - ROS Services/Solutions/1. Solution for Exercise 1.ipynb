{
 "cells": [
  {
   "cell_type": "markdown",
   "metadata": {},
   "source": [
    "# Solution for Exercise 1"
   ]
  },
  {
   "cell_type": "markdown",
   "metadata": {},
   "source": [
    "Create a file called **add_two_ints_client.py** inside your **scripts** directory of **tutorials** package."
   ]
  },
  {
   "cell_type": "code",
   "execution_count": null,
   "metadata": {},
   "outputs": [],
   "source": [
    "#! /usr/bin/env python\n",
    "\n",
    "import rospy\n",
    "from tutorials.srv import AddTwoInts, AddTwoIntsRequest\n",
    "\n",
    "rospy.init_node('add_two_ints_client')\n",
    "rospy.wait_for_service('/add_two_ints')\n",
    "\n",
    "var = rospy.ServiceProxy('/add_two_ints', AddTwoInts)\n",
    "\n",
    "number = AddTwoIntsRequest()\n",
    "\n",
    "while not rospy.is_shutdown():\n",
    "\n",
    "\tprint 'Please enter two integers: '\n",
    "\tnumber.a = input()\n",
    "\tnumber.b = input()\n",
    "\n",
    "\tprint (var(number))\n",
    "\tprint '---'"
   ]
  },
  {
   "cell_type": "markdown",
   "metadata": {},
   "source": [
    "Then, make a **launch** directory and put the **add_two_ints.launch** file inside it:"
   ]
  },
  {
   "cell_type": "code",
   "execution_count": null,
   "metadata": {},
   "outputs": [],
   "source": [
    "<launch>\n",
    "    <node pkg=\"tutorials\" type=\"add_two_ints_server.py\" name=\"add_two_ints_server\" output=\"screen\"/>\n",
    "\n",
    "    <node pkg=\"tutorials\" type=\"add_two_ints_client.py\" name=\"add_two_ints_client\" output=\"screen\"/>\n",
    "</launch>"
   ]
  },
  {
   "cell_type": "markdown",
   "metadata": {},
   "source": [
    "Now, compile and run it."
   ]
  },
  {
   "cell_type": "code",
   "execution_count": null,
   "metadata": {},
   "outputs": [],
   "source": [
    "roslaunch tutorials add_two_ints.launch"
   ]
  }
 ],
 "metadata": {
  "kernelspec": {
   "display_name": "Python 2",
   "language": "python",
   "name": "python2"
  },
  "language_info": {
   "codemirror_mode": {
    "name": "ipython",
    "version": 2
   },
   "file_extension": ".py",
   "mimetype": "text/x-python",
   "name": "python",
   "nbconvert_exporter": "python",
   "pygments_lexer": "ipython2",
   "version": "2.7.12"
  }
 },
 "nbformat": 4,
 "nbformat_minor": 2
}
