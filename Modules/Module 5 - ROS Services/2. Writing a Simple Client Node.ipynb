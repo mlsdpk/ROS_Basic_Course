{
 "cells": [
  {
   "cell_type": "markdown",
   "metadata": {},
   "source": [
    "# Turtle Spawner Node"
   ]
  },
  {
   "cell_type": "markdown",
   "metadata": {},
   "source": [
    "In the previous section, we learned how to call service using rosservice call command. Now, we are going to do it by writing a simple python node.\n",
    "<t>\n",
    "Create a new file called **turtle_spawner.py** inside your tutorials package. Then, copy the following code into it and compile it."
   ]
  },
  {
   "cell_type": "code",
   "execution_count": null,
   "metadata": {},
   "outputs": [],
   "source": [
    "#! /usr/bin/env python\n",
    "\n",
    "import rospy\n",
    "from turtlesim.srv import *\n",
    "\n",
    "rospy.init_node('service_client')\n",
    "rospy.wait_for_service('/spawn')\n",
    "\n",
    "spawner = rospy.ServiceProxy('/spawn', Spawn)\n",
    "\n",
    "turtle = SpawnRequest()\n",
    "turtle.x = 10.0\n",
    "turtle.y = 10.0\n",
    "turtle.theta = 90.0\n",
    "turtle.name = \"turtle_new\"\n",
    "\n",
    "\n",
    "result = spawner(turtle)\n",
    "print result"
   ]
  },
  {
   "cell_type": "markdown",
   "metadata": {},
   "source": [
    "Before running your code, run **roscore** and **turtlesim_node**. After that, run your code!"
   ]
  },
  {
   "cell_type": "code",
   "execution_count": null,
   "metadata": {},
   "outputs": [],
   "source": [
    "rosrun tutorials turtle_spawner.py"
   ]
  },
  {
   "cell_type": "markdown",
   "metadata": {},
   "source": [
    "#### name: \"turtle_new\""
   ]
  },
  {
   "cell_type": "markdown",
   "metadata": {},
   "source": [
    "You'll see a new turtle appears at the top right corner of the screen.\n",
    "<t>\n",
    "And also a new message printed on the console --> name: \"turtle_new\""
   ]
  },
  {
   "cell_type": "markdown",
   "metadata": {},
   "source": [
    "Well Done, you can now write a client node for the service. Let's move to next section..."
   ]
  }
 ],
 "metadata": {
  "kernelspec": {
   "display_name": "Python 2",
   "language": "python",
   "name": "python2"
  },
  "language_info": {
   "codemirror_mode": {
    "name": "ipython",
    "version": 2
   },
   "file_extension": ".py",
   "mimetype": "text/x-python",
   "name": "python",
   "nbconvert_exporter": "python",
   "pygments_lexer": "ipython2",
   "version": "2.7.12"
  }
 },
 "nbformat": 4,
 "nbformat_minor": 2
}
