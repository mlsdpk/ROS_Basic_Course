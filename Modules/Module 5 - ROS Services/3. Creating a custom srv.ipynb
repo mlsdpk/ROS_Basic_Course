{
 "cells": [
  {
   "cell_type": "markdown",
   "metadata": {},
   "source": [
    "# Creating a custom srv "
   ]
  },
  {
   "cell_type": "markdown",
   "metadata": {},
   "source": [
    "In the previous chapter, you learnt about how to create a client node for the service. Before creating a server node, let's create a custom srv file."
   ]
  },
  {
   "cell_type": "markdown",
   "metadata": {},
   "source": [
    "Create a new directory called **srv** in your tutorials package. Then, create a file called **AddTwoInts.srv** inside it. Copy the following lines into your srv file."
   ]
  },
  {
   "cell_type": "code",
   "execution_count": null,
   "metadata": {},
   "outputs": [],
   "source": [
    "int64 a\n",
    "int64 b\n",
    "---\n",
    "int64 sum"
   ]
  },
  {
   "cell_type": "markdown",
   "metadata": {},
   "source": [
    "Then, we'll do it same procedure as msg. Open your **CMakeLists.txt** of tutorials package. And edit these lines."
   ]
  },
  {
   "cell_type": "code",
   "execution_count": null,
   "metadata": {},
   "outputs": [],
   "source": [
    "find_package(catkin REQUIRED COMPONENTS\n",
    "  rospy\n",
    "  std_msgs\n",
    "  message_generation\n",
    ")"
   ]
  },
  {
   "cell_type": "code",
   "execution_count": null,
   "metadata": {},
   "outputs": [],
   "source": [
    "add_service_files(\n",
    "   FILES\n",
    "   AddTwoInts.srv\n",
    ")"
   ]
  },
  {
   "cell_type": "code",
   "execution_count": null,
   "metadata": {},
   "outputs": [],
   "source": [
    "generate_messages(\n",
    "   DEPENDENCIES\n",
    "   std_msgs\n",
    ")"
   ]
  },
  {
   "cell_type": "code",
   "execution_count": null,
   "metadata": {},
   "outputs": [],
   "source": [
    "catkin_package(\n",
    "   CATKIN_DEPENDS rospy std_msgs message_runtime\n",
    ")"
   ]
  },
  {
   "cell_type": "markdown",
   "metadata": {},
   "source": [
    "Done? Okay, next, open your **package.xml** file with any text editor. Then, edit it also."
   ]
  },
  {
   "cell_type": "code",
   "execution_count": null,
   "metadata": {},
   "outputs": [],
   "source": [
    "<build_depend>message_generation</build_depend> \n",
    "<exec_depend>message_runtime</exec_depend> "
   ]
  },
  {
   "cell_type": "markdown",
   "metadata": {},
   "source": [
    "Now, it's time to compile your catkin_ws. let's check our custom srv successfully created or not!"
   ]
  },
  {
   "cell_type": "code",
   "execution_count": null,
   "metadata": {},
   "outputs": [],
   "source": [
    "rossrv show AddTwoInts.srv"
   ]
  },
  {
   "cell_type": "code",
   "execution_count": null,
   "metadata": {},
   "outputs": [],
   "source": [
    "[tutorials/AddTwoInts]:\n",
    "int64 a\n",
    "int64 b\n",
    "---\n",
    "int64 sum"
   ]
  },
  {
   "cell_type": "markdown",
   "metadata": {},
   "source": [
    "### Congratulations!! You've created your custom srv. "
   ]
  }
 ],
 "metadata": {
  "kernelspec": {
   "display_name": "Python 2",
   "language": "python",
   "name": "python2"
  },
  "language_info": {
   "codemirror_mode": {
    "name": "ipython",
    "version": 2
   },
   "file_extension": ".py",
   "mimetype": "text/x-python",
   "name": "python",
   "nbconvert_exporter": "python",
   "pygments_lexer": "ipython2",
   "version": "2.7.12"
  }
 },
 "nbformat": 4,
 "nbformat_minor": 2
}
