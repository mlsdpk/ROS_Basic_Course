{
 "cells": [
  {
   "cell_type": "markdown",
   "metadata": {},
   "source": [
    "# ROS bags"
   ]
  },
  {
   "cell_type": "markdown",
   "metadata": {},
   "source": [
    "A bag file in ROS is for storing ROS message data from topics and services. The .bag extension is used to represent a bag file."
   ]
  },
  {
   "cell_type": "markdown",
   "metadata": {},
   "source": [
    "Bag files are created using the **rosbag** command, which will subscribe one or more topics and store the message's data in a file as it's received. This file can play the same topics as they are recorded from or it can remap the existing topics too."
   ]
  },
  {
   "cell_type": "markdown",
   "metadata": {},
   "source": [
    "The main application of rosbag is data logging. The robot data can be logged and can visualize and process offline."
   ]
  },
  {
   "cell_type": "markdown",
   "metadata": {},
   "source": [
    "The rosbag command is used to work with rosbag files. Here are the commands to record and playback a bag file:\n",
    "- **rosbag record [topic_1] [topic_2] -o [bag_name]**: This command will record the given topics into a bag file that is given in the command. We can also record all topics using the -a argument.\n",
    "- **rosbag play [bag_name]**: This will playback the existing bag file."
   ]
  },
  {
   "cell_type": "markdown",
   "metadata": {},
   "source": [
    "We are just introducing the ROS bags but not dive in too much into it."
   ]
  },
  {
   "cell_type": "markdown",
   "metadata": {},
   "source": [
    "Here are more details about this command:\n",
    "<t>\n",
    "http://wiki.ros.org/rosbag/Commandline\n",
    "\n",
    "There is a GUI tool to handle record and playback of bag files called **rqt_bag**.\n",
    "<t>\n",
    "Go to the following link to know more about rqt_bag: http://wiki.ros.org/rqt_bag"
   ]
  }
 ],
 "metadata": {
  "kernelspec": {
   "display_name": "Python 2",
   "language": "python",
   "name": "python2"
  },
  "language_info": {
   "codemirror_mode": {
    "name": "ipython",
    "version": 2
   },
   "file_extension": ".py",
   "mimetype": "text/x-python",
   "name": "python",
   "nbconvert_exporter": "python",
   "pygments_lexer": "ipython2",
   "version": "2.7.12"
  }
 },
 "nbformat": 4,
 "nbformat_minor": 2
}
