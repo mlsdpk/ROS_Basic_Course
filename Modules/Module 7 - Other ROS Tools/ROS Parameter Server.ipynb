{
 "cells": [
  {
   "cell_type": "markdown",
   "metadata": {},
   "source": [
    "# ROS Parameter Server"
   ]
  },
  {
   "cell_type": "markdown",
   "metadata": {},
   "source": [
    "While programming a robot, we might have to de ne robot parameters such as robot controller gain such as P, I, and D. When the number of parameters increases, we might need to store it as  les. In some situation, these parameters have to\n",
    "share between two or more programs too. In this case, ROS provides a parameter server, which is a shared server in which all ROS nodes can access parameters from this server. A node can read, write, modify and delete parameter values from the parameter server."
   ]
  },
  {
   "cell_type": "markdown",
   "metadata": {},
   "source": [
    "We can store these parameters in a file and load them into the server. The server can store a wide variety of data types and can even store dictionaries. The programmer can also set the scope of the parameter, that is, whether it can be accessed by only this node or all the nodes."
   ]
  },
  {
   "cell_type": "markdown",
   "metadata": {},
   "source": [
    "The parameter server supports the following XMLRPC datatypes, which include:\n",
    "- 32-bit integers\n",
    "- Booleans\n",
    "- strings\n",
    "- doubles\n",
    "- iso8601 dates\n",
    "- lists\n",
    "- base64-encoded binary data\n"
   ]
  },
  {
   "cell_type": "markdown",
   "metadata": {},
   "source": [
    "We can also store dictionaries on the parameter server. If the number of parameters is high, we can use a YAML file to save it. Here is an example of the YAML file parameter definitions:"
   ]
  },
  {
   "cell_type": "code",
   "execution_count": null,
   "metadata": {},
   "outputs": [],
   "source": [
    "/camera/name : 'nikon'  #string type\n",
    "/camera/fps : 30        #integer\n",
    "/camera/exposure : 1.2  #float\n",
    "/camera/active : true   #boolean"
   ]
  },
  {
   "cell_type": "markdown",
   "metadata": {},
   "source": [
    "We can use rosparam tool for working with parameters."
   ]
  },
  {
   "cell_type": "code",
   "execution_count": null,
   "metadata": {},
   "outputs": [],
   "source": [
    "rosparam -h"
   ]
  },
  {
   "cell_type": "code",
   "execution_count": null,
   "metadata": {},
   "outputs": [],
   "source": [
    "rosparam is a command-line tool for getting, setting, and deleting parameters from the ROS Parameter Server.\n",
    "\n",
    "Commands:\n",
    "\trosparam set\tset parameter\n",
    "\trosparam get\tget parameter\n",
    "\trosparam load\tload parameters from file\n",
    "\trosparam dump\tdump parameters to file\n",
    "\trosparam delete\tdelete parameter\n",
    "\trosparam list\tlist parameter names"
   ]
  },
  {
   "cell_type": "markdown",
   "metadata": {},
   "source": [
    "We are just introducing the ROS bags but not dive in too much into it."
   ]
  },
  {
   "cell_type": "markdown",
   "metadata": {},
   "source": [
    "The parameters can be changed dynamically during the execution of the node that uses these parameters, using the **dyamic_reconfigure** package (http://wiki.ros.org/dynamic_reconfigure)."
   ]
  }
 ],
 "metadata": {
  "kernelspec": {
   "display_name": "Python 2",
   "language": "python",
   "name": "python2"
  },
  "language_info": {
   "codemirror_mode": {
    "name": "ipython",
    "version": 2
   },
   "file_extension": ".py",
   "mimetype": "text/x-python",
   "name": "python",
   "nbconvert_exporter": "python",
   "pygments_lexer": "ipython2",
   "version": "2.7.12"
  }
 },
 "nbformat": 4,
 "nbformat_minor": 2
}
