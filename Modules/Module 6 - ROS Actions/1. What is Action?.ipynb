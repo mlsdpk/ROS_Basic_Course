{
 "cells": [
  {
   "cell_type": "markdown",
   "metadata": {},
   "source": [
    "# What is Action?"
   ]
  },
  {
   "cell_type": "markdown",
   "metadata": {},
   "source": [
    "Actions are the same as services. The difference is that when your node calls a service, it must wait until the service finishes.\n",
    "<t>\n",
    "#### When your node calls an action, it doesn't necessarily have to wait for the action to complete.\n",
    "<t>\n",
    "#### Hence, an action is asynchronous while services are synchronous."
   ]
  },
  {
   "cell_type": "markdown",
   "metadata": {},
   "source": [
    "For example, you make your robot to move in a circle once. If you use services for this, you can't to anything (e.g. shooting photo) while your robot is moving in a circle. You need to wait until the service finishes.\n",
    "<t>\n",
    "But, if you use actions, you can do whatever you want while you are moving in a circle.\n",
    "<t>\n",
    "- The node that provides the functionality has to contain an **action server**\n",
    "- The node that calls to the functionality has to contain an **action client**"
   ]
  },
  {
   "cell_type": "markdown",
   "metadata": {},
   "source": [
    "<img src=\"img/img1.png\" alt=\"Drawing\" style=\"width: 600px;\"/>"
   ]
  },
  {
   "cell_type": "markdown",
   "metadata": {},
   "source": [
    "Now, let's see an action in action (LoL)"
   ]
  },
  {
   "cell_type": "markdown",
   "metadata": {},
   "source": [
    "We'll see what actions can do using our turtle again."
   ]
  },
  {
   "cell_type": "code",
   "execution_count": null,
   "metadata": {},
   "outputs": [],
   "source": [
    "roscore"
   ]
  },
  {
   "cell_type": "raw",
   "metadata": {},
   "source": [
    "rosrun turtlesim turtlesim_node "
   ]
  },
  {
   "cell_type": "markdown",
   "metadata": {},
   "source": [
    "Before working with actions, first look at our topic lists."
   ]
  },
  {
   "cell_type": "code",
   "execution_count": null,
   "metadata": {},
   "outputs": [],
   "source": [
    "rostopic list"
   ]
  },
  {
   "cell_type": "code",
   "execution_count": null,
   "metadata": {},
   "outputs": [],
   "source": [
    "/rosout\n",
    "/rosout_agg\n",
    "/turtle1/cmd_vel\n",
    "/turtle1/color_sensor\n",
    "/turtle1/pose"
   ]
  },
  {
   "cell_type": "markdown",
   "metadata": {},
   "source": [
    "You knew it before. The topics published by turtlesim node. Well, run the following code:"
   ]
  },
  {
   "cell_type": "code",
   "execution_count": null,
   "metadata": {},
   "outputs": [],
   "source": [
    "rosrun turtle_actionlib shape_server"
   ]
  },
  {
   "cell_type": "markdown",
   "metadata": {},
   "source": [
    "Nothing happens. Yes, it's. Now, we've run our action server node. Do you want to check what actions avaiable now? Let's do it."
   ]
  },
  {
   "cell_type": "code",
   "execution_count": null,
   "metadata": {},
   "outputs": [],
   "source": [
    "rosaction list"
   ]
  },
  {
   "cell_type": "markdown",
   "metadata": {},
   "source": [
    "#### rosaction: command not found"
   ]
  },
  {
   "cell_type": "markdown",
   "metadata": {},
   "source": [
    "Ohh, haha. I forget this. There is no rosaction command. Because, actions work with topics. Check our topics list again."
   ]
  },
  {
   "cell_type": "code",
   "execution_count": null,
   "metadata": {},
   "outputs": [],
   "source": [
    "rostopic list"
   ]
  },
  {
   "cell_type": "code",
   "execution_count": null,
   "metadata": {},
   "outputs": [],
   "source": [
    "/rosout\n",
    "/rosout_agg\n",
    "/turtle1/cmd_vel\n",
    "/turtle1/color_sensor\n",
    "/turtle1/pose\n",
    "/turtle_shape/cancel\n",
    "/turtle_shape/feedback\n",
    "/turtle_shape/goal\n",
    "/turtle_shape/result\n",
    "/turtle_shape/status"
   ]
  },
  {
   "cell_type": "markdown",
   "metadata": {},
   "source": [
    "New topics appear now. **turtle_shape** is the action of our new topics list. Wanna go more deeply into it? \n",
    "<t>\n",
    "Yes, let's go. This time, we just focus on the **/turtle_shape/goal** action. "
   ]
  },
  {
   "cell_type": "code",
   "execution_count": null,
   "metadata": {},
   "outputs": [],
   "source": [
    "rostopic info /turtle_shape/goal "
   ]
  },
  {
   "cell_type": "code",
   "execution_count": null,
   "metadata": {},
   "outputs": [],
   "source": [
    "Type: turtle_actionlib/ShapeActionGoal\n",
    "\n",
    "Publishers: None\n",
    "\n",
    "Subscribers: \n",
    " * /turtle_shape (http://ubuntu:40219/)"
   ]
  },
  {
   "cell_type": "markdown",
   "metadata": {},
   "source": [
    "You'll the message type of the topics. let's dive more!"
   ]
  },
  {
   "cell_type": "code",
   "execution_count": null,
   "metadata": {},
   "outputs": [],
   "source": [
    "rosmsg show turtle_actionlib/ShapeActionGoal "
   ]
  },
  {
   "cell_type": "code",
   "execution_count": null,
   "metadata": {},
   "outputs": [],
   "source": [
    "std_msgs/Header header\n",
    "  uint32 seq\n",
    "  time stamp\n",
    "  string frame_id\n",
    "actionlib_msgs/GoalID goal_id\n",
    "  time stamp\n",
    "  string id\n",
    "turtle_actionlib/ShapeGoal goal\n",
    "  int32 edges\n",
    "  float32 radius"
   ]
  },
  {
   "cell_type": "markdown",
   "metadata": {},
   "source": [
    "You'll see all the all the messages type used for this topic."
   ]
  },
  {
   "cell_type": "markdown",
   "metadata": {},
   "source": [
    "As they are topics, we can publish messages to them. let's try this."
   ]
  },
  {
   "cell_type": "code",
   "execution_count": null,
   "metadata": {},
   "outputs": [],
   "source": [
    "rostopic pub /turtle_shape/goal turtle_actionlib/ShapeActionGoal \"header:\n",
    "  seq: 0\n",
    "  stamp:\n",
    "    secs: 0\n",
    "    nsecs: 0\n",
    "  frame_id: ''\n",
    "goal_id:\n",
    "  stamp:\n",
    "    secs: 0\n",
    "    nsecs: 0\n",
    "  id: ''\n",
    "goal:\n",
    "  edges: 3\n",
    "  radius: 2.0\""
   ]
  },
  {
   "cell_type": "markdown",
   "metadata": {},
   "source": [
    "Cool, the turtle makes a shape of triangle."
   ]
  },
  {
   "cell_type": "markdown",
   "metadata": {},
   "source": [
    "<img src=\"img/img2.png\" alt=\"Drawing\" style=\"width: 400px;\"/>"
   ]
  },
  {
   "cell_type": "markdown",
   "metadata": {},
   "source": [
    "And you'll see a success message in an action server console:"
   ]
  },
  {
   "cell_type": "code",
   "execution_count": null,
   "metadata": {},
   "outputs": [],
   "source": [
    "[ INFO] [1519483390.276829118]: /turtle_shape: Succeeded"
   ]
  },
  {
   "cell_type": "markdown",
   "metadata": {},
   "source": [
    "You can try more geometry shapes and the size by changing the edges & radius.\n",
    "<t>\n",
    "You can also do programmatically by calling an action client."
   ]
  },
  {
   "cell_type": "code",
   "execution_count": null,
   "metadata": {},
   "outputs": [],
   "source": [
    "rosrun turtle_actionlib shape_client "
   ]
  },
  {
   "cell_type": "markdown",
   "metadata": {},
   "source": [
    "The following shape is the default for action client node. So, if you want to try complex shapes, simply publish through a topic.\n",
    "<t>\n",
    "Btw, if you want to clear the screen, you can call a service and clear."
   ]
  },
  {
   "cell_type": "code",
   "execution_count": null,
   "metadata": {},
   "outputs": [],
   "source": [
    "rosservice call /clear "
   ]
  },
  {
   "cell_type": "markdown",
   "metadata": {},
   "source": [
    "<img src=\"img/img3.png\" alt=\"Drawing\" style=\"width: 400px;\"/>"
   ]
  },
  {
   "cell_type": "markdown",
   "metadata": {},
   "source": [
    "This is what simply an action does. You send a goal through publishing a topic to our server. Then, the server makes a turtle move then, a result (success) message appears. \n",
    "<t>\n",
    "But, the procedure is same as what services can do right? YES. Because there is no feedback message."
   ]
  },
  {
   "cell_type": "markdown",
   "metadata": {},
   "source": [
    "Do you remember msg file construction? For example:"
   ]
  },
  {
   "cell_type": "code",
   "execution_count": null,
   "metadata": {},
   "outputs": [],
   "source": [
    "int32 number"
   ]
  },
  {
   "cell_type": "markdown",
   "metadata": {},
   "source": [
    "How about srv?"
   ]
  },
  {
   "cell_type": "code",
   "execution_count": null,
   "metadata": {},
   "outputs": [],
   "source": [
    "int32 a\n",
    "int32 b\n",
    "---\n",
    "int32 sum"
   ]
  },
  {
   "cell_type": "markdown",
   "metadata": {},
   "source": [
    "Yes, msg has one part and srv files have two parts. \n",
    "<t>\n",
    "Our action files have three parts."
   ]
  },
  {
   "cell_type": "code",
   "execution_count": null,
   "metadata": {},
   "outputs": [],
   "source": [
    "#goal definition\n",
    "int32 count\n",
    "---\n",
    "#result definition\n",
    "int32 final_count\n",
    "---\n",
    "#feedback\n",
    "int32 current_number"
   ]
  },
  {
   "cell_type": "markdown",
   "metadata": {},
   "source": [
    "In our turtle example, we send goal of 3 edges and radius of 2 to our server. And the result message appears in our console when a turtle reaches back his original position. You can check (rostopic echo /turtle_shape/feedback) while your turtle is running. You won't see anything because it doesn't have any feedback messages.\n",
    "<t>\n",
    "To prove it, let's open their action definition file."
   ]
  },
  {
   "cell_type": "code",
   "execution_count": null,
   "metadata": {},
   "outputs": [],
   "source": [
    "roscd turtle_actionlib/action/"
   ]
  },
  {
   "cell_type": "code",
   "execution_count": null,
   "metadata": {},
   "outputs": [],
   "source": [
    "cat Shape.action"
   ]
  },
  {
   "cell_type": "markdown",
   "metadata": {},
   "source": [
    "You'll see the definition of an action file."
   ]
  },
  {
   "cell_type": "code",
   "execution_count": null,
   "metadata": {},
   "outputs": [],
   "source": [
    "#goal definition\n",
    "int32 edges\n",
    "float32 radius\n",
    "---\n",
    "#result definition\n",
    "float32 interior_angle\n",
    "float32 apothem\n",
    "---\n",
    "#feedback"
   ]
  },
  {
   "cell_type": "markdown",
   "metadata": {},
   "source": [
    "As you can see, there is no feedback part. That's why you don't see anything when you echo the feedback topic!"
   ]
  },
  {
   "cell_type": "markdown",
   "metadata": {},
   "source": [
    "That's all. You now know the basics of what actions can do. Don't be panic.\n",
    "<t>\n",
    "We'll learn more about actions in the next section."
   ]
  }
 ],
 "metadata": {
  "kernelspec": {
   "display_name": "Python 2",
   "language": "python",
   "name": "python2"
  },
  "language_info": {
   "codemirror_mode": {
    "name": "ipython",
    "version": 2
   },
   "file_extension": ".py",
   "mimetype": "text/x-python",
   "name": "python",
   "nbconvert_exporter": "python",
   "pygments_lexer": "ipython2",
   "version": "2.7.12"
  }
 },
 "nbformat": 4,
 "nbformat_minor": 2
}
