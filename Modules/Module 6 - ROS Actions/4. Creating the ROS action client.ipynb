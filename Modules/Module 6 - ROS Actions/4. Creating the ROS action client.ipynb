{
 "cells": [
  {
   "cell_type": "markdown",
   "metadata": {},
   "source": [
    "# Creating the action client"
   ]
  },
  {
   "cell_type": "markdown",
   "metadata": {},
   "source": [
    "This time, we'll make the action client node for the action server. \n",
    "<t>\n",
    "Create a file called **demo_action_client.py** and copy the following into it:"
   ]
  },
  {
   "cell_type": "code",
   "execution_count": null,
   "metadata": {},
   "outputs": [],
   "source": [
    "#! /usr/bin/env python\n",
    "\n",
    "import actionlib\n",
    "import rospy\n",
    "\n",
    "from action_tutorials.msg import DemoFeedback, DemoResult, DemoAction, DemoGoal\n",
    "\n",
    "number = 1\n",
    "\n",
    "def feedback_callback(feedback):\n",
    "\tglobal number \n",
    "\tprint '[Feedback] number %d received' %number\t\n",
    "\tnumber += 1\n",
    "\n",
    "client = actionlib.SimpleActionClient('/demo_as', DemoAction)\n",
    "\n",
    "rospy.init_node('demo_action_client')\n",
    "\t\n",
    "client.wait_for_server()\n",
    "\n",
    "while not rospy.is_shutdown():\n",
    "\t\n",
    "\tgoal = DemoGoal()\n",
    "\tgoal.count = input('Enter a number: ')\n",
    "\t\n",
    "\tclient.send_goal(goal, feedback_cb = feedback_callback)\n",
    "\t\n",
    "\tclient.wait_for_result()\n",
    "\tprint '[Result] State: %d'%(client.get_state())\n",
    "\tprint '---'\n",
    "\tnumber = 1"
   ]
  },
  {
   "cell_type": "markdown",
   "metadata": {},
   "source": [
    "Compile and run it after running **demo_action_server.py**"
   ]
  }
 ],
 "metadata": {
  "kernelspec": {
   "display_name": "Python 2",
   "language": "python",
   "name": "python2"
  },
  "language_info": {
   "codemirror_mode": {
    "name": "ipython",
    "version": 2
   },
   "file_extension": ".py",
   "mimetype": "text/x-python",
   "name": "python",
   "nbconvert_exporter": "python",
   "pygments_lexer": "ipython2",
   "version": "2.7.12"
  }
 },
 "nbformat": 4,
 "nbformat_minor": 2
}
