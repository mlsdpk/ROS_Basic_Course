{
 "cells": [
  {
   "cell_type": "markdown",
   "metadata": {},
   "source": [
    "# Creating the action server"
   ]
  },
  {
   "cell_type": "markdown",
   "metadata": {},
   "source": [
    "In this section, we'll discuss **demo_action_server.py**. The action server receives a goal value that is a number. When the server gets this goal value, it'll start counting from zero to this number. If the counting is complete, it'll successfully finish the action, if it is preempted before finishing, the action server will look for another goal value."
   ]
  },
  {
   "cell_type": "markdown",
   "metadata": {},
   "source": [
    "To do this, first create a python file called **demo_action_server.py** in the scripts folder of action_tutorials package. Then, copy the following into it:"
   ]
  },
  {
   "cell_type": "code",
   "execution_count": null,
   "metadata": {},
   "outputs": [],
   "source": [
    "#! /usr/bin/env python\n",
    "\n",
    "import actionlib\n",
    "import rospy\n",
    "\n",
    "from action_tutorials.msg import DemoFeedback, DemoResult, DemoAction\n",
    "\n",
    "class DemoClass(object):\n",
    "\n",
    "\t_feedback = DemoFeedback()\n",
    "\t_result   = DemoResult()\n",
    "\n",
    "\t_feedback.current_number = 0\n",
    "\n",
    "\tdef __init__(self):\n",
    "\t\tself._as = actionlib.SimpleActionServer(\"demo_as\", DemoAction, self.goal_callback, False)\n",
    "\t\tself._as.start()\n",
    "\n",
    "\tdef goal_callback(self, goal):\n",
    "\t\tr = rospy.Rate(1)\n",
    "\t\tsuccess = True\n",
    "\n",
    "\t\tprogress = goal.count\n",
    "\t\tfor i in range(0, progress):\n",
    "\n",
    "\t\t\tif self._as.is_preempt_requested():\n",
    "\t\t\t\trospy.loginfo(\"The goal has been cancelled\")\n",
    "\t\t\t\tself._as.set_preempted()\n",
    "\t\t\t\tsuccess = False\n",
    "\t\t\t\tbreak\n",
    "\n",
    "\t\t\tself._feedback.current_number += 1\n",
    "\t\t\tself._as.publish_feedback(self._feedback)\n",
    "\n",
    "\t\t\tr.sleep()\n",
    "\n",
    "\t\tif success:\n",
    "\t\t\tself._result.final_count = self._feedback.current_number\n",
    "\t\t\trospy.loginfo(\"Succeeded! Final goal, count = %s\" % self._result.final_count)\n",
    "\t\t\tself._as.set_succeeded(self._result)\n",
    "\n",
    "if __name__ == '__main__':\n",
    "\trospy.init_node(\"demo\")\n",
    "\tDemoClass()\n",
    "\trospy.spin()"
   ]
  },
  {
   "cell_type": "markdown",
   "metadata": {},
   "source": [
    "Compile and run it."
   ]
  },
  {
   "cell_type": "code",
   "execution_count": null,
   "metadata": {},
   "outputs": [],
   "source": [
    "roscore"
   ]
  },
  {
   "cell_type": "code",
   "execution_count": null,
   "metadata": {},
   "outputs": [],
   "source": [
    "rosrun action_tutorials demo_action_server.py"
   ]
  },
  {
   "cell_type": "markdown",
   "metadata": {},
   "source": [
    "You won't see anything. Nothing happens right now. Let's check our nodes and topics list in the new tab:"
   ]
  },
  {
   "cell_type": "code",
   "execution_count": null,
   "metadata": {},
   "outputs": [],
   "source": [
    "rosnode list"
   ]
  },
  {
   "cell_type": "markdown",
   "metadata": {},
   "source": [
    "#### /demo\n",
    "#### /rosout"
   ]
  },
  {
   "cell_type": "code",
   "execution_count": null,
   "metadata": {},
   "outputs": [],
   "source": [
    "rostopic list"
   ]
  },
  {
   "cell_type": "markdown",
   "metadata": {},
   "source": [
    "** /demo_as/cancel **\n",
    "<t>\n",
    "** /demo_as/feedback **\n",
    "<t>\n",
    "**/demo_as/goal**\n",
    "<t>\n",
    "**/demo_as/result**\n",
    "<t>\n",
    "**/demo_as/status**\n",
    "<t>\n",
    "**/rosout**\n",
    "<t>\n",
    "**/rosout_agg**"
   ]
  },
  {
   "cell_type": "markdown",
   "metadata": {},
   "source": [
    "You'll see the **'demo_as'** action server topics."
   ]
  },
  {
   "cell_type": "markdown",
   "metadata": {},
   "source": [
    "Okay, in the new tab, let's echo the feedback topic."
   ]
  },
  {
   "cell_type": "code",
   "execution_count": null,
   "metadata": {},
   "outputs": [],
   "source": [
    "rostopic echo /demo_as/feedback"
   ]
  },
  {
   "cell_type": "markdown",
   "metadata": {},
   "source": [
    "Nothing happens rightnow. Because we don't give any goals to the server. So, let's try now by publishing:"
   ]
  },
  {
   "cell_type": "code",
   "execution_count": null,
   "metadata": {},
   "outputs": [],
   "source": [
    "rostopic pub /demo_as/goal action_tutorials/DemoActionGoal \"header: \n",
    "  seq: 0\n",
    "  stamp:\n",
    "    secs: 0\n",
    "    nsecs: 0\n",
    "  frame_id: ''\n",
    "goal_id:\n",
    "  stamp:\n",
    "    secs: 0\n",
    "    nsecs: 0\n",
    "  id: ''\n",
    "goal:\n",
    "  count: 10\" "
   ]
  },
  {
   "cell_type": "markdown",
   "metadata": {},
   "source": [
    "In the feedback tab, you will see the count messages increasing from 1 to the goal. For us, the goal is 10.\n",
    "<t>\n",
    "When the count reaches 10, you'll see the success message in the server tab."
   ]
  },
  {
   "cell_type": "markdown",
   "metadata": {},
   "source": [
    "#### [INFO] [1519666564.791267]: Succeeded! Final goal, count = 10\n"
   ]
  },
  {
   "cell_type": "markdown",
   "metadata": {},
   "source": [
    "You can also cancel the process by publishing through the cancel topic to the server. Let's do it."
   ]
  },
  {
   "cell_type": "markdown",
   "metadata": {},
   "source": [
    "First, close the goal publisher teminal and publish again the goal with more counts."
   ]
  },
  {
   "cell_type": "code",
   "execution_count": null,
   "metadata": {},
   "outputs": [],
   "source": [
    "rostopic pub /demo_as/goal action_tutorials/DemoActionGoal \"header: \n",
    "  seq: 0\n",
    "  stamp:\n",
    "    secs: 0\n",
    "    nsecs: 0\n",
    "  frame_id: ''\n",
    "goal_id:\n",
    "  stamp:\n",
    "    secs: 0\n",
    "    nsecs: 0\n",
    "  id: ''\n",
    "goal:\n",
    "  count: 50\" "
   ]
  },
  {
   "cell_type": "markdown",
   "metadata": {},
   "source": [
    "While running, open new tab and publish cancel request to the server"
   ]
  },
  {
   "cell_type": "code",
   "execution_count": null,
   "metadata": {},
   "outputs": [],
   "source": [
    "rostopic pub /demo_as/cancel actionlib_msgs/GoalID \"stamp:\n",
    "  secs: 0\n",
    "  nsecs: 0\n",
    "id: ''\" "
   ]
  },
  {
   "cell_type": "code",
   "execution_count": 2,
   "metadata": {},
   "outputs": [
    {
     "data": {
      "text/plain": [
       "[0, 1, 2, 3, 4, 5, 6, 7, 8, 9]"
      ]
     },
     "execution_count": 2,
     "metadata": {},
     "output_type": "execute_result"
    }
   ],
   "source": [
    "range(0, 10)"
   ]
  },
  {
   "cell_type": "markdown",
   "metadata": {},
   "source": [
    "This time you'll see the cancel message in the server terminal:"
   ]
  },
  {
   "cell_type": "markdown",
   "metadata": {},
   "source": [
    "#### [INFO] [1519666873.781875]: The goal has been cancelled\n"
   ]
  },
  {
   "cell_type": "markdown",
   "metadata": {},
   "source": [
    "### Yes, that's all. You can now create your own action server.\n",
    "<t>\n",
    "### In the next section, we'll create our own action client, see you!"
   ]
  }
 ],
 "metadata": {
  "kernelspec": {
   "display_name": "Python 2",
   "language": "python",
   "name": "python2"
  },
  "language_info": {
   "codemirror_mode": {
    "name": "ipython",
    "version": 2
   },
   "file_extension": ".py",
   "mimetype": "text/x-python",
   "name": "python",
   "nbconvert_exporter": "python",
   "pygments_lexer": "ipython2",
   "version": "2.7.12"
  }
 },
 "nbformat": 4,
 "nbformat_minor": 2
}
