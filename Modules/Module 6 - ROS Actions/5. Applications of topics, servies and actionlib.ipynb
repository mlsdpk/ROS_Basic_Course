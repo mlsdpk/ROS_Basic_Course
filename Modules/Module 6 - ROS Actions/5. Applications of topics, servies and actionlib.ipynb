{
 "cells": [
  {
   "cell_type": "markdown",
   "metadata": {},
   "source": [
    "# Applications of topics, servies and actionlib"
   ]
  },
  {
   "cell_type": "markdown",
   "metadata": {},
   "source": [
    "Topics, services and actionlib are used in different scenarios. We know topics are a unidirectional communication method, services are a bidirectional request/reply kind of communication and actionlib is a modified form of ROS services in which we can cancel the executing process running on the server whenever required."
   ]
  },
  {
   "cell_type": "markdown",
   "metadata": {},
   "source": [
    "Here are some of areas where we use these methods:\n",
    "- **Topics:** Robot teleoperation, publishing odemetry, sending robot transform (TF) and sending robot joint states\n",
    "- **Services:** This saves camera calibration parameters to a file, saves a map of the robot after SLAM and loads a parameter file\n",
    "- **Actions** This is used in motion planners and ROS navigation stacks"
   ]
  },
  {
   "cell_type": "markdown",
   "metadata": {},
   "source": [
    "# Further Studies\n"
   ]
  },
  {
   "cell_type": "markdown",
   "metadata": {},
   "source": [
    "### ROS Manipulation\n",
    "### ROS Navigation\n",
    "### ROS Perception and so on..."
   ]
  }
 ],
 "metadata": {
  "kernelspec": {
   "display_name": "Python 2",
   "language": "python",
   "name": "python2"
  },
  "language_info": {
   "codemirror_mode": {
    "name": "ipython",
    "version": 2
   },
   "file_extension": ".py",
   "mimetype": "text/x-python",
   "name": "python",
   "nbconvert_exporter": "python",
   "pygments_lexer": "ipython2",
   "version": "2.7.12"
  }
 },
 "nbformat": 4,
 "nbformat_minor": 2
}
