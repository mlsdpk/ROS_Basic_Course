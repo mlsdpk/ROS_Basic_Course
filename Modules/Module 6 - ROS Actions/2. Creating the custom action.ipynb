{
 "cells": [
  {
   "cell_type": "markdown",
   "metadata": {},
   "source": [
    "# Creating the custom action"
   ]
  },
  {
   "cell_type": "markdown",
   "metadata": {},
   "source": [
    "This time, we'll make our own action server. First, we need to create our custom action definition.\n",
    "<t>\n",
    "Let's create a new package for this."
   ]
  },
  {
   "cell_type": "code",
   "execution_count": null,
   "metadata": {},
   "outputs": [],
   "source": [
    "catkin_create_pkg action_tutorials rospy std_msgs actionlib_msgs "
   ]
  },
  {
   "cell_type": "markdown",
   "metadata": {},
   "source": [
    "Then, make a new directory called **action**. Inside it, create a new file called **\"Demo.action\"** and copy the follow definitions into it:"
   ]
  },
  {
   "cell_type": "code",
   "execution_count": null,
   "metadata": {},
   "outputs": [],
   "source": [
    "#goal definition\n",
    "int32 count\n",
    "---\n",
    "#result definition\n",
    "int32 final_count\n",
    "---\n",
    "#feedback\n",
    "int32 current_number"
   ]
  },
  {
   "cell_type": "markdown",
   "metadata": {},
   "source": [
    "In the CMakeLists.txt, you need to uncomment the following lines and add your Demo.action in it."
   ]
  },
  {
   "cell_type": "code",
   "execution_count": null,
   "metadata": {},
   "outputs": [],
   "source": [
    "add_action_files(\n",
    "   FILES\n",
    "   Demo.action\n",
    ")"
   ]
  },
  {
   "cell_type": "code",
   "execution_count": null,
   "metadata": {},
   "outputs": [],
   "source": [
    "generate_messages(\n",
    "   DEPENDENCIES\n",
    "   actionlib_msgs   \n",
    ")"
   ]
  },
  {
   "cell_type": "markdown",
   "metadata": {},
   "source": [
    "Then, compile it. If you don't have any errors, you've created your custom action. \n",
    "<t>\n",
    "We can't verify it using **rosmsg show (our_custom_msg)**. Because they are actions."
   ]
  },
  {
   "cell_type": "markdown",
   "metadata": {},
   "source": [
    "So, let's create a new python file called **\"demo.py\"** inside the scripts folder. Then copy the followings and compile it:"
   ]
  },
  {
   "cell_type": "code",
   "execution_count": null,
   "metadata": {},
   "outputs": [],
   "source": [
    "#! /usr/bin/env python\n",
    "\n",
    "from action_tutorials.msg import DemoGoal, DemoResult, DemoFeedback\n",
    "\n",
    "print 'Okay, it worked.'"
   ]
  },
  {
   "cell_type": "markdown",
   "metadata": {},
   "source": [
    "After compiling, run it:"
   ]
  },
  {
   "cell_type": "code",
   "execution_count": null,
   "metadata": {},
   "outputs": [],
   "source": [
    "rosrun action_tutorials demo.py "
   ]
  },
  {
   "cell_type": "markdown",
   "metadata": {},
   "source": [
    "#### Okay, it worked."
   ]
  },
  {
   "cell_type": "markdown",
   "metadata": {},
   "source": [
    "Yes, it works. Your custom action file is successfully created. \n",
    "<t>\n",
    "We're going to use it and create action server & client nodes in the next section."
   ]
  }
 ],
 "metadata": {
  "kernelspec": {
   "display_name": "Python 2",
   "language": "python",
   "name": "python2"
  },
  "language_info": {
   "codemirror_mode": {
    "name": "ipython",
    "version": 2
   },
   "file_extension": ".py",
   "mimetype": "text/x-python",
   "name": "python",
   "nbconvert_exporter": "python",
   "pygments_lexer": "ipython2",
   "version": "2.7.12"
  }
 },
 "nbformat": 4,
 "nbformat_minor": 2
}
